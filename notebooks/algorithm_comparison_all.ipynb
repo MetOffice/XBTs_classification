{
 "cells": [
  {
   "cell_type": "markdown",
   "metadata": {},
   "source": [
    "# Comparison of algorithms\n",
    "\n",
    "A notebook to producer a comparison of algorithms plot for publication to compare recall for different algorithms, forming a basis for choice of algorithm."
   ]
  },
  {
   "cell_type": "code",
   "execution_count": 1,
   "metadata": {},
   "outputs": [],
   "source": [
    "import os\n",
    "import sys\n",
    "import pathlib\n",
    "import functools\n",
    "import itertools\n",
    "import datetime\n",
    "import random"
   ]
  },
  {
   "cell_type": "code",
   "execution_count": 2,
   "metadata": {},
   "outputs": [],
   "source": [
    "import pandas\n",
    "import numpy"
   ]
  },
  {
   "cell_type": "code",
   "execution_count": 3,
   "metadata": {},
   "outputs": [],
   "source": [
    "import matplotlib\n",
    "import matplotlib.pyplot\n",
    "import warnings\n",
    "warnings.filterwarnings('ignore')"
   ]
  },
  {
   "cell_type": "code",
   "execution_count": 4,
   "metadata": {},
   "outputs": [],
   "source": [
    "font = {'family' : 'normal',\n",
    "        'size'   : 22}\n",
    "matplotlib.rc('font', **font)\n",
    "matplotlib.pyplot.style.use('ggplot')"
   ]
  },
  {
   "cell_type": "code",
   "execution_count": 5,
   "metadata": {},
   "outputs": [],
   "source": [
    "import ipywidgets\n",
    "import time"
   ]
  },
  {
   "cell_type": "code",
   "execution_count": 6,
   "metadata": {},
   "outputs": [],
   "source": [
    "import sklearn\n",
    "import sklearn.model_selection\n",
    "import sklearn.neural_network\n",
    "import sklearn.linear_model\n",
    "import sklearn.preprocessing\n",
    "import sklearn.tree\n",
    "import sklearn.metrics\n",
    "import sklearn.ensemble"
   ]
  },
  {
   "cell_type": "code",
   "execution_count": 7,
   "metadata": {},
   "outputs": [],
   "source": [
    "import xgboost"
   ]
  },
  {
   "cell_type": "code",
   "execution_count": 8,
   "metadata": {},
   "outputs": [],
   "source": [
    "root_repo_dir = pathlib.Path().absolute().parent\n",
    "sys.path = [os.path.join(root_repo_dir)] + sys.path"
   ]
  },
  {
   "cell_type": "code",
   "execution_count": 9,
   "metadata": {},
   "outputs": [],
   "source": [
    "import xbt.dataset\n",
    "from xbt.dataset import XbtDataset, UNKNOWN_STR, cat_output_formatter, check_value_found\n",
    "from xbt.imeta import imeta_classification, XBT_MAX_DEPTH"
   ]
  },
  {
   "cell_type": "code",
   "execution_count": 10,
   "metadata": {},
   "outputs": [
    {
     "name": "stdout",
     "output_type": "stream",
     "text": [
      "local\n"
     ]
    }
   ],
   "source": [
    "# Set up some site specific parameters for the notebook\n",
    "try:\n",
    "    environment = os.environ['XBT_ENV_NAME']\n",
    "except KeyError:\n",
    "    environment = 'pangeo'\n",
    "print(environment)"
   ]
  },
  {
   "cell_type": "code",
   "execution_count": 11,
   "metadata": {},
   "outputs": [
    {
     "name": "stdout",
     "output_type": "stream",
     "text": [
      "/Users/stephen.haddad/data/xbt-data/\n",
      "(1966, 2015)\n"
     ]
    }
   ],
   "source": [
    "try:\n",
    "    root_data_dir = os.environ['XBT_ROOT_DIR']\n",
    "except KeyError:\n",
    "    root_data_dir = '/data/users/shaddad/xbt-data/',\n",
    "    \n",
    "year_range = (1966,2015)\n",
    "print(root_data_dir)\n",
    "print(year_range)"
   ]
  },
  {
   "cell_type": "code",
   "execution_count": 12,
   "metadata": {},
   "outputs": [],
   "source": [
    "plots_dir = pathlib.Path(root_data_dir) / 'plots'\n",
    "if not plots_dir.is_dir():\n",
    "    plots_dir.mkdir()"
   ]
  },
  {
   "cell_type": "code",
   "execution_count": 13,
   "metadata": {},
   "outputs": [],
   "source": [
    "metrics_avg = 'weighted'\n",
    "cv_metric_names = [f'recall_{metrics_avg}', f'precision_{metrics_avg}', f'f1_{metrics_avg}']\n",
    "input_feature_names = ['country','max_depth', 'year', 'lat', 'lon']\n",
    "target_feature_name = 'instrument'"
   ]
  },
  {
   "cell_type": "code",
   "execution_count": 14,
   "metadata": {},
   "outputs": [],
   "source": [
    "splitter_features = ['year', 'instrument']\n",
    "test_feature = 'cruise_number'\n",
    "ensemble_test_fraction = 0.1\n",
    "num_test_splits = 3\n",
    "test_fraction = 1.0 / num_test_splits\n",
    "num_train_splits = 3\n",
    "train_fraction = 1.0 - (1.0 / num_train_splits)\n",
    "test_fold_name = 'test_fold'"
   ]
  },
  {
   "cell_type": "code",
   "execution_count": 15,
   "metadata": {},
   "outputs": [],
   "source": [
    "input_dir_name = 'dask_clean'\n",
    "exp_out_dir_name = 'experiment_outputs'"
   ]
  },
  {
   "cell_type": "code",
   "execution_count": 16,
   "metadata": {},
   "outputs": [],
   "source": [
    "experiment_name = 'nb_single_decisionTree_country'\n",
    "classifier_name = 'decision_tree'\n",
    "suffix='countryAndLatLon'"
   ]
  },
  {
   "cell_type": "code",
   "execution_count": 86,
   "metadata": {},
   "outputs": [],
   "source": [
    "classifier_opts = {'mlp': {\n",
    "                       'opts' : { 'hidden_layer_sizes': [10, 10],\n",
    "                             'alpha': 1e-4,\n",
    "                             'max_iter': 1000},\n",
    "                       'class': sklearn.neural_network.MLPClassifier,\n",
    "                       'name': 'Neural network',\n",
    "                   },\n",
    "                   'decision_tree' :\n",
    "                   {\n",
    "                       'opts': {'max_depth': 20,\n",
    "                                'min_samples_leaf': 1,\n",
    "                                'criterion': 'gini'\n",
    "                              },\n",
    "                       'class': sklearn.tree.DecisionTreeClassifier,\n",
    "                       'name': 'Decision Tree',\n",
    "                   },\n",
    "                   'random_forest': {\n",
    "                       'opts':  {'max_depth': 20,\n",
    "                                'min_samples_leaf': 1,\n",
    "                                'criterion': 'gini'\n",
    "                                },\n",
    "                       'class': sklearn.ensemble.RandomForestClassifier,\n",
    "                       'name': 'Random Forest',\n",
    "                   },\n",
    "                   'xbgoost': {\n",
    "                       'opts':  {'objective':'binary:logistic', \n",
    "                                 'n_estimators':10},\n",
    "                       'class': xgboost.XGBClassifier,\n",
    "                       'name': 'eXtreme Gradient-Boosted Trees',\n",
    "                   },\n",
    "                   'logreg': {\n",
    "                       'opts': {'tol': 1e-3, \n",
    "                               'C': 0.5,\n",
    "                               'max_iter': 500,\n",
    "                              },\n",
    "                       'class': sklearn.linear_model.LogisticRegression,\n",
    "                       'name': 'Logistic Regression',\n",
    "                   },                   \n",
    "                   \n",
    "                  }\n",
    "\n"
   ]
  },
  {
   "cell_type": "code",
   "execution_count": 18,
   "metadata": {},
   "outputs": [],
   "source": [
    "xbt_input_dir = os.path.join(root_data_dir, input_dir_name)\n",
    "xbt_output_dir = os.path.join(root_data_dir, exp_out_dir_name, experiment_name)"
   ]
  },
  {
   "cell_type": "code",
   "execution_count": 19,
   "metadata": {},
   "outputs": [
    {
     "name": "stdout",
     "output_type": "stream",
     "text": [
      "outputting to /Users/stephen.haddad/data/xbt-data/experiment_outputs/nb_single_decisionTree_country\n"
     ]
    }
   ],
   "source": [
    "# create the output for this experiment if it doesn't exist\n",
    "if not os.path.isdir(xbt_output_dir):\n",
    "    os.makedirs(xbt_output_dir)\n",
    "print(f'outputting to {xbt_output_dir}')"
   ]
  },
  {
   "cell_type": "code",
   "execution_count": 20,
   "metadata": {},
   "outputs": [],
   "source": [
    "output_fname_template = 'xbt_output_{exp_name}_{subset}.csv'\n",
    "result_fname_template = 'xbt_metrics_{classifier}_{suffix}.csv'"
   ]
  },
  {
   "cell_type": "code",
   "execution_count": 21,
   "metadata": {},
   "outputs": [
    {
     "name": "stdout",
     "output_type": "stream",
     "text": [
      "CPU times: user 5.67 s, sys: 1.2 s, total: 6.86 s\n",
      "Wall time: 6.97 s\n"
     ]
    }
   ],
   "source": [
    "%%time\n",
    "xbt_full_dataset = XbtDataset(xbt_input_dir, year_range)"
   ]
  },
  {
   "cell_type": "markdown",
   "metadata": {},
   "source": [
    "## Data preparation\n",
    "\n",
    "We are only testing on the labelled data, to be able to evluate performance. The XbtDataset class has filtered out some bad data including profiles with maximum depths less that 0.0 or greater than 2000.0. There were also some profiles with bad date entries, which have been excluded for now."
   ]
  },
  {
   "cell_type": "code",
   "execution_count": 22,
   "metadata": {},
   "outputs": [
    {
     "name": "stdout",
     "output_type": "stream",
     "text": [
      "CPU times: user 240 ms, sys: 84 ms, total: 324 ms\n",
      "Wall time: 321 ms\n"
     ]
    }
   ],
   "source": [
    "%%time\n",
    "xbt_labelled = xbt_full_dataset.filter_obs({'labelled': 'labelled'})"
   ]
  },
  {
   "cell_type": "code",
   "execution_count": 23,
   "metadata": {},
   "outputs": [],
   "source": [
    "_ = xbt_labelled.get_ml_dataset(return_data = False)"
   ]
  },
  {
   "cell_type": "code",
   "execution_count": 24,
   "metadata": {},
   "outputs": [],
   "source": [
    "_ = xbt_labelled.filter_features(['instrument','model','manufacturer']).encode_target(return_data = False)"
   ]
  },
  {
   "cell_type": "code",
   "execution_count": 25,
   "metadata": {},
   "outputs": [
    {
     "name": "stdout",
     "output_type": "stream",
     "text": [
      "CPU times: user 1.15 s, sys: 53.5 ms, total: 1.2 s\n",
      "Wall time: 1.2 s\n"
     ]
    }
   ],
   "source": [
    "%%time\n",
    "test_cruise_numbers = xbt_labelled.sample_feature_values('cruise_number', fraction=0.1)\n",
    "test_var_name = 'test'\n",
    "test_part_name = 'test_part'\n",
    "test_whole_name = 'test_whole'\n",
    "test_indices = list(itertools.chain.from_iterable([list(xbt_labelled.filter_obs({target_feature_name: selected_instrument}).xbt_df.sample(frac=0.1).index) \n",
    "for selected_instrument in xbt_labelled['instrument'].unique()]))"
   ]
  },
  {
   "cell_type": "code",
   "execution_count": 26,
   "metadata": {},
   "outputs": [],
   "source": [
    "# label test data based on whole cruises set aside\n",
    "xbt_labelled.xbt_df[test_var_name] = xbt_labelled.xbt_df['cruise_number'].isin(test_cruise_numbers)\n",
    "xbt_labelled.xbt_df[test_whole_name] = xbt_labelled.xbt_df['cruise_number'].isin(test_cruise_numbers)"
   ]
  },
  {
   "cell_type": "code",
   "execution_count": 27,
   "metadata": {},
   "outputs": [],
   "source": [
    "# label test data where part of the cruise is in the train/validation sets\n",
    "xbt_labelled.xbt_df.loc[test_indices, test_var_name] = True\n",
    "xbt_labelled.xbt_df[test_part_name] = False\n",
    "xbt_labelled.xbt_df.loc[test_indices, test_part_name] = True\n"
   ]
  },
  {
   "cell_type": "code",
   "execution_count": 28,
   "metadata": {},
   "outputs": [],
   "source": [
    "imeta_classes = xbt_labelled.xbt_df.apply(imeta_classification, axis=1)\n",
    "imeta_model = imeta_classes.apply(lambda t1: t1[0])\n",
    "imeta_manufacturer = imeta_classes.apply(lambda t1: t1[1])"
   ]
  },
  {
   "cell_type": "code",
   "execution_count": 29,
   "metadata": {},
   "outputs": [],
   "source": [
    "imeta_feature_name = f'{target_feature_name}_imeta'"
   ]
  },
  {
   "cell_type": "code",
   "execution_count": 30,
   "metadata": {},
   "outputs": [],
   "source": [
    "imeta_instrument = imeta_classes.apply(lambda t1: f'XBT: {t1[0]} ({t1[1]})') \n",
    "xbt_labelled.xbt_df[imeta_feature_name] = imeta_instrument\n",
    "xbt_labelled._target_encoders[imeta_feature_name] = xbt_labelled._target_encoders[target_feature_name]\n",
    "xbt_labelled._feature_encoders[imeta_feature_name] = xbt_labelled._feature_encoders[target_feature_name]"
   ]
  },
  {
   "cell_type": "code",
   "execution_count": 31,
   "metadata": {},
   "outputs": [
    {
     "name": "stdout",
     "output_type": "stream",
     "text": [
      "CPU times: user 112 ms, sys: 26 ms, total: 138 ms\n",
      "Wall time: 137 ms\n"
     ]
    }
   ],
   "source": [
    "%%time\n",
    "xbt_test = xbt_labelled.filter_obs({test_var_name: True})\n",
    "xbt_working = xbt_labelled.filter_obs({test_var_name: False})"
   ]
  },
  {
   "cell_type": "markdown",
   "metadata": {},
   "source": [
    "get separate sets of 2 types of validation data.\n",
    "* data from cruises where the whole cruise is in the validation data \n",
    "* data where some of the profiles are in the training data"
   ]
  },
  {
   "cell_type": "code",
   "execution_count": 32,
   "metadata": {},
   "outputs": [],
   "source": [
    "xbt_test_whole = xbt_labelled.filter_obs({test_whole_name: True})\n",
    "xbt_test_part = xbt_labelled.filter_obs({test_part_name: True})"
   ]
  },
  {
   "cell_type": "code",
   "execution_count": 33,
   "metadata": {},
   "outputs": [],
   "source": [
    "X_working_all = xbt_working.filter_features(input_feature_names).get_ml_dataset()[0]\n",
    "y_instr_working_all = xbt_working.filter_features([target_feature_name]).get_ml_dataset()[0]"
   ]
  },
  {
   "cell_type": "code",
   "execution_count": 34,
   "metadata": {},
   "outputs": [],
   "source": [
    "X_test_all = xbt_test.filter_features(input_feature_names).get_ml_dataset()[0]\n",
    "y_instr_test_all = xbt_test.filter_features([target_feature_name]).get_ml_dataset()[0]"
   ]
  },
  {
   "cell_type": "markdown",
   "metadata": {},
   "source": [
    "## Resampling"
   ]
  },
  {
   "cell_type": "code",
   "execution_count": 35,
   "metadata": {},
   "outputs": [],
   "source": [
    "num_resamples_per_class = 25000"
   ]
  },
  {
   "cell_type": "code",
   "execution_count": 36,
   "metadata": {},
   "outputs": [],
   "source": [
    "instrument_sample_list = [instrument1 for instrument1, count1 in zip(xbt_labelled.xbt_df[target_feature_name].value_counts().index, xbt_labelled.xbt_df[target_feature_name].value_counts()) if count1 > 100] \n"
   ]
  },
  {
   "cell_type": "code",
   "execution_count": 37,
   "metadata": {},
   "outputs": [],
   "source": [
    "def get_resampled(instrument_list, xbt_subset1, resample_index, random_state, num_samples):\n",
    "    resampled_profiles_list = [xbt_subset1.filter_obs({target_feature_name: ins1}).xbt_df.sample(\n",
    "        num_samples, \n",
    "        replace=True,\n",
    "        random_state=random_state,\n",
    "    ) \n",
    "         for ins1 in instrument_list]\n",
    "    resampled_training_indices = list(set(itertools.chain.from_iterable([list(rp1.index) for rp1 in resampled_profiles_list])))\n",
    "    if resample_index is None:\n",
    "        resample_index = 0\n",
    "    resample_feature_name = f'resample_train_{resample_index}'\n",
    "    xbt_subset1.xbt_df[resample_feature_name] = xbt_subset1.xbt_df.index.isin(resampled_training_indices)\n",
    "    resampled_df = pandas.concat(\n",
    "        resampled_profiles_list,\n",
    "        ignore_index=True,\n",
    "    )\n",
    "    xbt_resampled_train_all = XbtDataset(xbt_input_dir, year_range, df=resampled_df)\n",
    "    xbt_resampled_train_all._feature_encoders = xbt_labelled._feature_encoders\n",
    "    xbt_resampled_train_all._arget_encoders = xbt_labelled._target_encoders\n",
    "    return xbt_resampled_train_all"
   ]
  },
  {
   "cell_type": "code",
   "execution_count": 38,
   "metadata": {},
   "outputs": [],
   "source": [
    "xbt_train, xbt_validate = xbt_working.train_test_split(\n",
    "    train_fraction=0.8,\n",
    "    refresh=True,                            \n",
    ")"
   ]
  },
  {
   "cell_type": "code",
   "execution_count": 39,
   "metadata": {},
   "outputs": [
    {
     "data": {
      "text/plain": [
       "((741156, 21), (185289, 21))"
      ]
     },
     "execution_count": 39,
     "metadata": {},
     "output_type": "execute_result"
    }
   ],
   "source": [
    "xbt_train.shape, xbt_validate.shape"
   ]
  },
  {
   "cell_type": "code",
   "execution_count": 40,
   "metadata": {},
   "outputs": [],
   "source": [
    "X_train_all = xbt_train.filter_features(input_feature_names).get_ml_dataset()[0]\n",
    "y_instr_train_all = xbt_train.filter_features([target_feature_name]).get_ml_dataset()[0]"
   ]
  },
  {
   "cell_type": "code",
   "execution_count": 41,
   "metadata": {},
   "outputs": [],
   "source": [
    "X_validate_all = xbt_validate.filter_features(input_feature_names).get_ml_dataset()[0]\n",
    "y_instr_validate_all = xbt_validate.filter_features([target_feature_name]).get_ml_dataset()[0]"
   ]
  },
  {
   "cell_type": "code",
   "execution_count": 42,
   "metadata": {},
   "outputs": [
    {
     "name": "stdout",
     "output_type": "stream",
     "text": [
      "mlp\n",
      "decision_tree\n",
      "random_forest\n",
      "xbgoost\n",
      "[15:55:39] WARNING: ../src/learner.cc:1115: Starting in XGBoost 1.3.0, the default evaluation metric used with the objective 'multi:softprob' was changed from 'merror' to 'mlogloss'. Explicitly set eval_metric if you'd like to restore the old behavior.\n",
      "logreg\n",
      "mlp\n",
      "decision_tree\n",
      "random_forest\n",
      "xbgoost\n",
      "[16:21:30] WARNING: ../src/learner.cc:1115: Starting in XGBoost 1.3.0, the default evaluation metric used with the objective 'multi:softprob' was changed from 'merror' to 'mlogloss'. Explicitly set eval_metric if you'd like to restore the old behavior.\n",
      "logreg\n",
      "mlp\n",
      "decision_tree\n",
      "random_forest\n",
      "xbgoost\n",
      "[16:47:29] WARNING: ../src/learner.cc:1115: Starting in XGBoost 1.3.0, the default evaluation metric used with the objective 'multi:softprob' was changed from 'merror' to 'mlogloss'. Explicitly set eval_metric if you'd like to restore the old behavior.\n",
      "logreg\n",
      "CPU times: user 4h 26min 17s, sys: 8min 19s, total: 4h 34min 37s\n",
      "Wall time: 1h 36min 3s\n"
     ]
    }
   ],
   "source": [
    "%%time\n",
    "clf_dict_resampled = {clf_name: {} for clf_name in classifier_opts.keys()}\n",
    "for ix1 in range(num_train_splits):\n",
    "    xbt_resampled_train_all = get_resampled(\n",
    "        instrument_sample_list, \n",
    "        xbt_train, \n",
    "        resample_index=0,\n",
    "        random_state=int((datetime.datetime.now().timestamp()*1e5) % 1e5),\n",
    "        num_samples=num_resamples_per_class,\n",
    "    )    \n",
    "    for clf_name, clf_params in classifier_opts.items():\n",
    "        print(clf_name)\n",
    "        clf_dt1 = clf_params['class'](**clf_params['opts'])\n",
    "        clf_dt1.fit(\n",
    "            xbt_train.filter_features(input_feature_names).get_ml_dataset()[0], \n",
    "            xbt_train.filter_features([target_feature_name]).get_ml_dataset()[0],\n",
    "        )        \n",
    "        clf_dict_resampled[clf_name][f'{clf_name}_resampled_{ix1}'] = clf_dt1\n"
   ]
  },
  {
   "cell_type": "markdown",
   "metadata": {
    "tags": []
   },
   "source": [
    "# Cross-validation based ensemble on imbalanced data"
   ]
  },
  {
   "cell_type": "code",
   "execution_count": 43,
   "metadata": {},
   "outputs": [
    {
     "name": "stdout",
     "output_type": "stream",
     "text": [
      "CPU times: user 15.9 s, sys: 61.8 ms, total: 15.9 s\n",
      "Wall time: 15.5 s\n"
     ]
    }
   ],
   "source": [
    "%%time\n",
    "xbt_working.generate_folds_by_feature('cruise_number', num_test_splits, test_fold_name)"
   ]
  },
  {
   "cell_type": "code",
   "execution_count": 44,
   "metadata": {},
   "outputs": [],
   "source": [
    "cruise_numbers = list(xbt_working['cruise_number'].unique())"
   ]
  },
  {
   "cell_type": "code",
   "execution_count": 45,
   "metadata": {},
   "outputs": [],
   "source": [
    "X_labelled = xbt_working.filter_features(input_feature_names).get_ml_dataset()[0]\n",
    "y_labelled = xbt_working.filter_features([target_feature_name]).get_ml_dataset()[0]\n"
   ]
  },
  {
   "cell_type": "code",
   "execution_count": 46,
   "metadata": {},
   "outputs": [
    {
     "name": "stdout",
     "output_type": "stream",
     "text": [
      "mlp\n"
     ]
    },
    {
     "name": "stderr",
     "output_type": "stream",
     "text": [
      "/Users/stephen.haddad/opt/anaconda3/envs/xbt_env_xgboost/lib/python3.8/site-packages/sklearn/utils/validation.py:63: DataConversionWarning: A column-vector y was passed when a 1d array was expected. Please change the shape of y to (n_samples, ), for example using ravel().\n",
      "  return f(*args, **kwargs)\n",
      "/Users/stephen.haddad/opt/anaconda3/envs/xbt_env_xgboost/lib/python3.8/site-packages/sklearn/metrics/_classification.py:1248: UndefinedMetricWarning: Precision is ill-defined and being set to 0.0 in labels with no predicted samples. Use `zero_division` parameter to control this behavior.\n",
      "  _warn_prf(average, modifier, msg_start, len(result))\n",
      "/Users/stephen.haddad/opt/anaconda3/envs/xbt_env_xgboost/lib/python3.8/site-packages/sklearn/metrics/_classification.py:1248: UndefinedMetricWarning: Precision is ill-defined and being set to 0.0 in labels with no predicted samples. Use `zero_division` parameter to control this behavior.\n",
      "  _warn_prf(average, modifier, msg_start, len(result))\n"
     ]
    },
    {
     "name": "stdout",
     "output_type": "stream",
     "text": [
      "decision_tree\n",
      "random_forest\n",
      "xbgoost\n"
     ]
    },
    {
     "name": "stderr",
     "output_type": "stream",
     "text": [
      "/Users/stephen.haddad/opt/anaconda3/envs/xbt_env_xgboost/lib/python3.8/site-packages/sklearn/model_selection/_validation.py:598: DataConversionWarning: A column-vector y was passed when a 1d array was expected. Please change the shape of y to (n_samples,), for example using ravel().\n",
      "  estimator.fit(X_train, y_train, **fit_params)\n",
      "/Users/stephen.haddad/opt/anaconda3/envs/xbt_env_xgboost/lib/python3.8/site-packages/sklearn/metrics/_classification.py:1248: UndefinedMetricWarning: Precision is ill-defined and being set to 0.0 in labels with no predicted samples. Use `zero_division` parameter to control this behavior.\n",
      "  _warn_prf(average, modifier, msg_start, len(result))\n",
      "/Users/stephen.haddad/opt/anaconda3/envs/xbt_env_xgboost/lib/python3.8/site-packages/sklearn/metrics/_classification.py:1248: UndefinedMetricWarning: Precision is ill-defined and being set to 0.0 in labels with no predicted samples. Use `zero_division` parameter to control this behavior.\n",
      "  _warn_prf(average, modifier, msg_start, len(result))\n",
      "/Users/stephen.haddad/opt/anaconda3/envs/xbt_env_xgboost/lib/python3.8/site-packages/sklearn/metrics/_classification.py:1248: UndefinedMetricWarning: Precision is ill-defined and being set to 0.0 in labels with no predicted samples. Use `zero_division` parameter to control this behavior.\n",
      "  _warn_prf(average, modifier, msg_start, len(result))\n",
      "/Users/stephen.haddad/opt/anaconda3/envs/xbt_env_xgboost/lib/python3.8/site-packages/sklearn/metrics/_classification.py:1248: UndefinedMetricWarning: Precision is ill-defined and being set to 0.0 in labels with no predicted samples. Use `zero_division` parameter to control this behavior.\n",
      "  _warn_prf(average, modifier, msg_start, len(result))\n"
     ]
    },
    {
     "name": "stdout",
     "output_type": "stream",
     "text": [
      "logreg\n"
     ]
    },
    {
     "name": "stderr",
     "output_type": "stream",
     "text": [
      "/Users/stephen.haddad/opt/anaconda3/envs/xbt_env_xgboost/lib/python3.8/site-packages/sklearn/utils/validation.py:63: DataConversionWarning: A column-vector y was passed when a 1d array was expected. Please change the shape of y to (n_samples, ), for example using ravel().\n",
      "  return f(*args, **kwargs)\n",
      "/Users/stephen.haddad/opt/anaconda3/envs/xbt_env_xgboost/lib/python3.8/site-packages/sklearn/metrics/_classification.py:1248: UndefinedMetricWarning: Precision is ill-defined and being set to 0.0 in labels with no predicted samples. Use `zero_division` parameter to control this behavior.\n",
      "  _warn_prf(average, modifier, msg_start, len(result))\n",
      "/Users/stephen.haddad/opt/anaconda3/envs/xbt_env_xgboost/lib/python3.8/site-packages/sklearn/metrics/_classification.py:1248: UndefinedMetricWarning: Precision is ill-defined and being set to 0.0 in labels with no predicted samples. Use `zero_division` parameter to control this behavior.\n",
      "  _warn_prf(average, modifier, msg_start, len(result))\n",
      "/Users/stephen.haddad/opt/anaconda3/envs/xbt_env_xgboost/lib/python3.8/site-packages/sklearn/metrics/_classification.py:1248: UndefinedMetricWarning: Precision is ill-defined and being set to 0.0 in labels with no predicted samples. Use `zero_division` parameter to control this behavior.\n",
      "  _warn_prf(average, modifier, msg_start, len(result))\n",
      "/Users/stephen.haddad/opt/anaconda3/envs/xbt_env_xgboost/lib/python3.8/site-packages/xgboost/sklearn.py:1224: UserWarning: The use of label encoder in XGBClassifier is deprecated and will be removed in a future release. To remove this warning, do the following: 1) Pass option use_label_encoder=False when constructing XGBClassifier object; and 2) Encode your labels (y) as integers starting with 0, i.e. 0, 1, 2, ..., [num_class - 1].\n",
      "  warnings.warn(label_encoder_deprecation_msg, UserWarning)\n",
      "/Users/stephen.haddad/opt/anaconda3/envs/xbt_env_xgboost/lib/python3.8/site-packages/sklearn/utils/validation.py:63: DataConversionWarning: A column-vector y was passed when a 1d array was expected. Please change the shape of y to (n_samples, ), for example using ravel().\n",
      "  return f(*args, **kwargs)\n",
      "/Users/stephen.haddad/opt/anaconda3/envs/xbt_env_xgboost/lib/python3.8/site-packages/sklearn/metrics/_classification.py:1248: UndefinedMetricWarning: Precision is ill-defined and being set to 0.0 in labels with no predicted samples. Use `zero_division` parameter to control this behavior.\n",
      "  _warn_prf(average, modifier, msg_start, len(result))\n",
      "/Users/stephen.haddad/opt/anaconda3/envs/xbt_env_xgboost/lib/python3.8/site-packages/sklearn/metrics/_classification.py:1248: UndefinedMetricWarning: Precision is ill-defined and being set to 0.0 in labels with no predicted samples. Use `zero_division` parameter to control this behavior.\n",
      "  _warn_prf(average, modifier, msg_start, len(result))\n"
     ]
    },
    {
     "name": "stdout",
     "output_type": "stream",
     "text": [
      "[17:39:52] WARNING: ../src/learner.cc:1115: Starting in XGBoost 1.3.0, the default evaluation metric used with the objective 'multi:softprob' was changed from 'merror' to 'mlogloss'. Explicitly set eval_metric if you'd like to restore the old behavior.\n",
      "[17:39:56] WARNING: ../src/learner.cc:1115: Starting in XGBoost 1.3.0, the default evaluation metric used with the objective 'multi:softprob' was changed from 'merror' to 'mlogloss'. Explicitly set eval_metric if you'd like to restore the old behavior.\n"
     ]
    },
    {
     "name": "stderr",
     "output_type": "stream",
     "text": [
      "/Users/stephen.haddad/opt/anaconda3/envs/xbt_env_xgboost/lib/python3.8/site-packages/xgboost/sklearn.py:1224: UserWarning: The use of label encoder in XGBClassifier is deprecated and will be removed in a future release. To remove this warning, do the following: 1) Pass option use_label_encoder=False when constructing XGBClassifier object; and 2) Encode your labels (y) as integers starting with 0, i.e. 0, 1, 2, ..., [num_class - 1].\n",
      "  warnings.warn(label_encoder_deprecation_msg, UserWarning)\n",
      "/Users/stephen.haddad/opt/anaconda3/envs/xbt_env_xgboost/lib/python3.8/site-packages/sklearn/utils/validation.py:63: DataConversionWarning: A column-vector y was passed when a 1d array was expected. Please change the shape of y to (n_samples, ), for example using ravel().\n",
      "  return f(*args, **kwargs)\n",
      "/Users/stephen.haddad/opt/anaconda3/envs/xbt_env_xgboost/lib/python3.8/site-packages/sklearn/metrics/_classification.py:1248: UndefinedMetricWarning: Precision is ill-defined and being set to 0.0 in labels with no predicted samples. Use `zero_division` parameter to control this behavior.\n",
      "  _warn_prf(average, modifier, msg_start, len(result))\n",
      "/Users/stephen.haddad/opt/anaconda3/envs/xbt_env_xgboost/lib/python3.8/site-packages/sklearn/metrics/_classification.py:1248: UndefinedMetricWarning: Precision is ill-defined and being set to 0.0 in labels with no predicted samples. Use `zero_division` parameter to control this behavior.\n",
      "  _warn_prf(average, modifier, msg_start, len(result))\n"
     ]
    },
    {
     "name": "stdout",
     "output_type": "stream",
     "text": [
      "[17:39:53] WARNING: ../src/learner.cc:1115: Starting in XGBoost 1.3.0, the default evaluation metric used with the objective 'multi:softprob' was changed from 'merror' to 'mlogloss'. Explicitly set eval_metric if you'd like to restore the old behavior.\n"
     ]
    },
    {
     "name": "stderr",
     "output_type": "stream",
     "text": [
      "/Users/stephen.haddad/opt/anaconda3/envs/xbt_env_xgboost/lib/python3.8/site-packages/sklearn/model_selection/_validation.py:598: DataConversionWarning: A column-vector y was passed when a 1d array was expected. Please change the shape of y to (n_samples,), for example using ravel().\n",
      "  estimator.fit(X_train, y_train, **fit_params)\n",
      "/Users/stephen.haddad/opt/anaconda3/envs/xbt_env_xgboost/lib/python3.8/site-packages/sklearn/metrics/_classification.py:1248: UndefinedMetricWarning: Precision is ill-defined and being set to 0.0 in labels with no predicted samples. Use `zero_division` parameter to control this behavior.\n",
      "  _warn_prf(average, modifier, msg_start, len(result))\n",
      "/Users/stephen.haddad/opt/anaconda3/envs/xbt_env_xgboost/lib/python3.8/site-packages/sklearn/metrics/_classification.py:1248: UndefinedMetricWarning: Precision is ill-defined and being set to 0.0 in labels with no predicted samples. Use `zero_division` parameter to control this behavior.\n",
      "  _warn_prf(average, modifier, msg_start, len(result))\n",
      "/Users/stephen.haddad/opt/anaconda3/envs/xbt_env_xgboost/lib/python3.8/site-packages/xgboost/sklearn.py:1224: UserWarning: The use of label encoder in XGBClassifier is deprecated and will be removed in a future release. To remove this warning, do the following: 1) Pass option use_label_encoder=False when constructing XGBClassifier object; and 2) Encode your labels (y) as integers starting with 0, i.e. 0, 1, 2, ..., [num_class - 1].\n",
      "  warnings.warn(label_encoder_deprecation_msg, UserWarning)\n",
      "/Users/stephen.haddad/opt/anaconda3/envs/xbt_env_xgboost/lib/python3.8/site-packages/sklearn/utils/validation.py:63: DataConversionWarning: A column-vector y was passed when a 1d array was expected. Please change the shape of y to (n_samples, ), for example using ravel().\n",
      "  return f(*args, **kwargs)\n",
      "/Users/stephen.haddad/opt/anaconda3/envs/xbt_env_xgboost/lib/python3.8/site-packages/sklearn/metrics/_classification.py:1248: UndefinedMetricWarning: Precision is ill-defined and being set to 0.0 in labels with no predicted samples. Use `zero_division` parameter to control this behavior.\n",
      "  _warn_prf(average, modifier, msg_start, len(result))\n",
      "/Users/stephen.haddad/opt/anaconda3/envs/xbt_env_xgboost/lib/python3.8/site-packages/sklearn/metrics/_classification.py:1248: UndefinedMetricWarning: Precision is ill-defined and being set to 0.0 in labels with no predicted samples. Use `zero_division` parameter to control this behavior.\n",
      "  _warn_prf(average, modifier, msg_start, len(result))\n",
      "/Users/stephen.haddad/opt/anaconda3/envs/xbt_env_xgboost/lib/python3.8/site-packages/sklearn/utils/validation.py:63: DataConversionWarning: A column-vector y was passed when a 1d array was expected. Please change the shape of y to (n_samples, ), for example using ravel().\n",
      "  return f(*args, **kwargs)\n",
      "/Users/stephen.haddad/opt/anaconda3/envs/xbt_env_xgboost/lib/python3.8/site-packages/sklearn/linear_model/_logistic.py:763: ConvergenceWarning: lbfgs failed to converge (status=1):\n",
      "STOP: TOTAL NO. of ITERATIONS REACHED LIMIT.\n",
      "\n",
      "Increase the number of iterations (max_iter) or scale the data as shown in:\n",
      "    https://scikit-learn.org/stable/modules/preprocessing.html\n",
      "Please also refer to the documentation for alternative solver options:\n",
      "    https://scikit-learn.org/stable/modules/linear_model.html#logistic-regression\n",
      "  n_iter_i = _check_optimize_result(\n",
      "/Users/stephen.haddad/opt/anaconda3/envs/xbt_env_xgboost/lib/python3.8/site-packages/sklearn/metrics/_classification.py:1248: UndefinedMetricWarning: Precision is ill-defined and being set to 0.0 in labels with no predicted samples. Use `zero_division` parameter to control this behavior.\n",
      "  _warn_prf(average, modifier, msg_start, len(result))\n",
      "/Users/stephen.haddad/opt/anaconda3/envs/xbt_env_xgboost/lib/python3.8/site-packages/sklearn/metrics/_classification.py:1248: UndefinedMetricWarning: Precision is ill-defined and being set to 0.0 in labels with no predicted samples. Use `zero_division` parameter to control this behavior.\n",
      "  _warn_prf(average, modifier, msg_start, len(result))\n"
     ]
    },
    {
     "name": "stdout",
     "output_type": "stream",
     "text": [
      "CPU times: user 2.95 s, sys: 4.38 s, total: 7.34 s\n",
      "Wall time: 36min 55s\n"
     ]
    }
   ],
   "source": [
    "%%time\n",
    "scores = {}\n",
    "for clf_name, clf_params in classifier_opts.items():\n",
    "    print(clf_name)\n",
    "    group_cv1 = sklearn.model_selection.KFold(n_splits=num_test_splits,\n",
    "                                              shuffle=True,\n",
    "                                              random_state=random.randint(1,2**20))\n",
    "    \n",
    "    clf_dt1 = clf_params['class'](**clf_params['opts'])\n",
    "    scores[clf_name] = sklearn.model_selection.cross_validate(\n",
    "        clf_dt1,\n",
    "        X_labelled, y_labelled, \n",
    "        groups=xbt_working[test_fold_name], \n",
    "        cv=group_cv1,\n",
    "        return_estimator=True,\n",
    "        return_train_score=True,\n",
    "        scoring=cv_metric_names,\n",
    "        n_jobs=-1,\n",
    "    )"
   ]
  },
  {
   "cell_type": "markdown",
   "metadata": {
    "tags": []
   },
   "source": [
    "### Calculating ensemble outputs"
   ]
  },
  {
   "cell_type": "code",
   "execution_count": 47,
   "metadata": {},
   "outputs": [],
   "source": [
    "calc_disagreements = lambda x: len(set(x))"
   ]
  },
  {
   "cell_type": "code",
   "execution_count": 48,
   "metadata": {},
   "outputs": [],
   "source": [
    "def calc_ensemble_output(xbt_subset, clf_dict, instrument_list, target_name, input_names, target_encoder):\n",
    "    d1 = {\n",
    "    f'{target_name}_{clf_name}_res': \n",
    "    xbt_subset._feature_encoders[target_feature_name].inverse_transform(\n",
    "        clf1.predict(xbt_test.filter_features(input_names).get_ml_dataset()[0]))\n",
    "    for clf_name, clf1 in clf_dict.items()\n",
    "    }\n",
    "    ens_features = list(d1.keys())\n",
    "    d1['id'] = xbt_subset['id']\n",
    "    instr_predictions = pandas.DataFrame(d1)\n",
    "    probs_instrument = functools.reduce(\n",
    "        lambda x,y: x+y, \n",
    "        [target_encoder.transform(instr_predictions[[pred1]])\n",
    "         for pred1 in ens_features\n",
    "         ]) / len(ens_features)\n",
    "    probs_instrument_df = pandas.DataFrame({\n",
    "        col_name: probs_instrument[:,col_ix1]\n",
    "        for col_ix1, col_name in enumerate(instrument_list)\n",
    "    })    \n",
    "    max_prob_ensemble = probs_instrument_df.idxmax(axis='columns')\n",
    "    return {\n",
    "        'ens_features': ens_features, \n",
    "        'instr_predictions': instr_predictions, \n",
    "        'probs_instrument': probs_instrument_df, \n",
    "        'max_prob_ensemble': max_prob_ensemble} \n",
    "    \n",
    "    "
   ]
  },
  {
   "cell_type": "code",
   "execution_count": 49,
   "metadata": {},
   "outputs": [],
   "source": [
    "clf_dict_cv = {clf_name: {f'{clf_name}_{ix1}': clf1 for ix1, clf1 in enumerate(score_clf['estimator'])} for clf_name, score_clf in scores.items()}"
   ]
  },
  {
   "cell_type": "code",
   "execution_count": 50,
   "metadata": {},
   "outputs": [],
   "source": [
    "instrument_list = list(xbt_labelled._feature_encoders[target_feature_name].classes_)"
   ]
  },
  {
   "cell_type": "code",
   "execution_count": 51,
   "metadata": {},
   "outputs": [
    {
     "name": "stdout",
     "output_type": "stream",
     "text": [
      "CPU times: user 26.2 s, sys: 1.76 s, total: 28 s\n",
      "Wall time: 16.8 s\n"
     ]
    }
   ],
   "source": [
    "%%time\n",
    "ensemble_results_cv = {\n",
    "    clf_name: calc_ensemble_output(xbt_subset=xbt_test,\n",
    "                                   clf_dict=clf_dict1,\n",
    "                                   instrument_list=instrument_list,\n",
    "                                   target_name=target_feature_name,\n",
    "                                   input_names=input_feature_names,\n",
    "                                   target_encoder=xbt_labelled._target_encoders[target_feature_name],\n",
    "                                   )\n",
    "    for clf_name, clf_dict1  in clf_dict_cv.items()\n",
    "}"
   ]
  },
  {
   "cell_type": "markdown",
   "metadata": {},
   "source": [
    "Calculate ensemble outputs for resampled data."
   ]
  },
  {
   "cell_type": "code",
   "execution_count": 52,
   "metadata": {},
   "outputs": [
    {
     "name": "stdout",
     "output_type": "stream",
     "text": [
      "CPU times: user 26.6 s, sys: 2.39 s, total: 29 s\n",
      "Wall time: 17.8 s\n"
     ]
    }
   ],
   "source": [
    "%%time\n",
    "ensemble_results_resampled = {\n",
    "    clf_name: calc_ensemble_output(xbt_subset=xbt_test,\n",
    "                                   clf_dict=clf_dict1,\n",
    "                                   instrument_list=instrument_list,\n",
    "                                   target_name=target_feature_name,\n",
    "                                   input_names=input_feature_names,\n",
    "                                   target_encoder=xbt_labelled._target_encoders[target_feature_name],\n",
    "                                   )\n",
    "    for clf_name, clf_dict1  in clf_dict_resampled.items()\n",
    "}"
   ]
  },
  {
   "cell_type": "markdown",
   "metadata": {},
   "source": [
    "## Calculate metrics"
   ]
  },
  {
   "cell_type": "code",
   "execution_count": 53,
   "metadata": {},
   "outputs": [],
   "source": [
    "def calc_metric_subset(xbt_subset, clf1, filter_dict, inputs, target_feature, metric_func, metric_args_dict):\n",
    "    if filter_dict:\n",
    "        xbt_selected = xbt_subset.filter_obs(filter_dict)\n",
    "    else:\n",
    "        xbt_selected = xbt_subset\n",
    "    if xbt_selected.shape[0] == 0:\n",
    "        return 0.0\n",
    "    metrics_result = metric_func(\n",
    "        clf1.predict(xbt_selected.filter_features(inputs).get_ml_dataset()[0]),\n",
    "        xbt_selected.filter_features([target_feature]).get_ml_dataset()[0],\n",
    "        **metric_args_dict)\n",
    "    return metrics_result                       "
   ]
  },
  {
   "cell_type": "code",
   "execution_count": 54,
   "metadata": {},
   "outputs": [],
   "source": [
    "do_avg_args_dict = {'labels':list(range(0,len(instrument_list))), \n",
    "                    'average':'weighted'}\n",
    "metrics_defs_dict = {\n",
    "    'recall': {'metric_func': sklearn.metrics.recall_score, 'metric_args_dict': do_avg_args_dict},\n",
    "    'precision': {'metric_func': sklearn.metrics.precision_score, 'metric_args_dict': do_avg_args_dict},\n",
    "    'accuracy': {'metric_func': sklearn.metrics.accuracy_score, 'metric_args_dict': {}},\n",
    "    'f1': {'metric_func': sklearn.metrics.f1_score, 'metric_args_dict': do_avg_args_dict},\n",
    "    'balanced_accuracy': {'metric_func': sklearn.metrics.balanced_accuracy_score, 'metric_args_dict': {}},    \n",
    "}\n"
   ]
  },
  {
   "cell_type": "code",
   "execution_count": 55,
   "metadata": {},
   "outputs": [],
   "source": [
    "metrics_imeta_all = { f'{metric_name}_instr_ens' :\n",
    "    metric1['metric_func'](\n",
    "        xbt_test.filter_features([f'{target_feature_name}_imeta']).get_ml_dataset()[0],\n",
    "        xbt_test.filter_features([target_feature_name]).get_ml_dataset()[0],\n",
    "        **metric1['metric_args_dict']\n",
    "    )\n",
    "    for metric_name,metric1 in metrics_defs_dict.items()    \n",
    "}\n",
    "metrics_imeta_all['classifier'] = 'imeta'"
   ]
  },
  {
   "cell_type": "code",
   "execution_count": 79,
   "metadata": {},
   "outputs": [
    {
     "data": {
      "text/html": [
       "<div>\n",
       "<style scoped>\n",
       "    .dataframe tbody tr th:only-of-type {\n",
       "        vertical-align: middle;\n",
       "    }\n",
       "\n",
       "    .dataframe tbody tr th {\n",
       "        vertical-align: top;\n",
       "    }\n",
       "\n",
       "    .dataframe thead th {\n",
       "        text-align: right;\n",
       "    }\n",
       "</style>\n",
       "<table border=\"1\" class=\"dataframe\">\n",
       "  <thead>\n",
       "    <tr style=\"text-align: right;\">\n",
       "      <th></th>\n",
       "      <th>recall_instr_imeta</th>\n",
       "      <th>precision_instr_imeta</th>\n",
       "      <th>accuracy_instr_imeta</th>\n",
       "      <th>f1_instr_imeta</th>\n",
       "      <th>balanced_accuracy_instr_imeta</th>\n",
       "      <th>year</th>\n",
       "    </tr>\n",
       "  </thead>\n",
       "  <tbody>\n",
       "    <tr>\n",
       "      <th>0</th>\n",
       "      <td>1.000000</td>\n",
       "      <td>1.000000</td>\n",
       "      <td>1.000000</td>\n",
       "      <td>1.000000</td>\n",
       "      <td>1.000000</td>\n",
       "      <td>1966</td>\n",
       "    </tr>\n",
       "    <tr>\n",
       "      <th>1</th>\n",
       "      <td>1.000000</td>\n",
       "      <td>1.000000</td>\n",
       "      <td>1.000000</td>\n",
       "      <td>1.000000</td>\n",
       "      <td>1.000000</td>\n",
       "      <td>1967</td>\n",
       "    </tr>\n",
       "    <tr>\n",
       "      <th>2</th>\n",
       "      <td>0.964310</td>\n",
       "      <td>0.976372</td>\n",
       "      <td>0.964310</td>\n",
       "      <td>0.967816</td>\n",
       "      <td>0.970375</td>\n",
       "      <td>1968</td>\n",
       "    </tr>\n",
       "    <tr>\n",
       "      <th>3</th>\n",
       "      <td>0.917959</td>\n",
       "      <td>0.967968</td>\n",
       "      <td>0.917959</td>\n",
       "      <td>0.934381</td>\n",
       "      <td>0.965044</td>\n",
       "      <td>1969</td>\n",
       "    </tr>\n",
       "    <tr>\n",
       "      <th>4</th>\n",
       "      <td>0.864278</td>\n",
       "      <td>0.912537</td>\n",
       "      <td>0.864278</td>\n",
       "      <td>0.874852</td>\n",
       "      <td>0.714141</td>\n",
       "      <td>1970</td>\n",
       "    </tr>\n",
       "    <tr>\n",
       "      <th>5</th>\n",
       "      <td>0.943987</td>\n",
       "      <td>0.960305</td>\n",
       "      <td>0.943987</td>\n",
       "      <td>0.947983</td>\n",
       "      <td>0.976447</td>\n",
       "      <td>1971</td>\n",
       "    </tr>\n",
       "    <tr>\n",
       "      <th>6</th>\n",
       "      <td>0.886832</td>\n",
       "      <td>0.944703</td>\n",
       "      <td>0.886832</td>\n",
       "      <td>0.905361</td>\n",
       "      <td>0.908718</td>\n",
       "      <td>1972</td>\n",
       "    </tr>\n",
       "    <tr>\n",
       "      <th>7</th>\n",
       "      <td>0.927520</td>\n",
       "      <td>0.961921</td>\n",
       "      <td>0.927520</td>\n",
       "      <td>0.938396</td>\n",
       "      <td>0.972062</td>\n",
       "      <td>1973</td>\n",
       "    </tr>\n",
       "    <tr>\n",
       "      <th>8</th>\n",
       "      <td>0.955228</td>\n",
       "      <td>0.977273</td>\n",
       "      <td>0.955228</td>\n",
       "      <td>0.964941</td>\n",
       "      <td>0.970050</td>\n",
       "      <td>1974</td>\n",
       "    </tr>\n",
       "    <tr>\n",
       "      <th>9</th>\n",
       "      <td>0.944742</td>\n",
       "      <td>0.968787</td>\n",
       "      <td>0.944742</td>\n",
       "      <td>0.954064</td>\n",
       "      <td>0.734425</td>\n",
       "      <td>1975</td>\n",
       "    </tr>\n",
       "    <tr>\n",
       "      <th>10</th>\n",
       "      <td>0.881553</td>\n",
       "      <td>0.933526</td>\n",
       "      <td>0.881553</td>\n",
       "      <td>0.899338</td>\n",
       "      <td>0.721234</td>\n",
       "      <td>1976</td>\n",
       "    </tr>\n",
       "    <tr>\n",
       "      <th>11</th>\n",
       "      <td>0.772274</td>\n",
       "      <td>0.892888</td>\n",
       "      <td>0.772274</td>\n",
       "      <td>0.793587</td>\n",
       "      <td>0.535272</td>\n",
       "      <td>1977</td>\n",
       "    </tr>\n",
       "    <tr>\n",
       "      <th>12</th>\n",
       "      <td>0.813977</td>\n",
       "      <td>0.903085</td>\n",
       "      <td>0.813977</td>\n",
       "      <td>0.822194</td>\n",
       "      <td>0.711011</td>\n",
       "      <td>1978</td>\n",
       "    </tr>\n",
       "    <tr>\n",
       "      <th>13</th>\n",
       "      <td>0.729555</td>\n",
       "      <td>0.750534</td>\n",
       "      <td>0.729555</td>\n",
       "      <td>0.736059</td>\n",
       "      <td>0.694810</td>\n",
       "      <td>1979</td>\n",
       "    </tr>\n",
       "    <tr>\n",
       "      <th>14</th>\n",
       "      <td>0.694024</td>\n",
       "      <td>0.634808</td>\n",
       "      <td>0.694024</td>\n",
       "      <td>0.662022</td>\n",
       "      <td>0.705522</td>\n",
       "      <td>1980</td>\n",
       "    </tr>\n",
       "    <tr>\n",
       "      <th>15</th>\n",
       "      <td>0.659158</td>\n",
       "      <td>0.795500</td>\n",
       "      <td>0.659158</td>\n",
       "      <td>0.609732</td>\n",
       "      <td>0.708945</td>\n",
       "      <td>1981</td>\n",
       "    </tr>\n",
       "    <tr>\n",
       "      <th>16</th>\n",
       "      <td>0.746180</td>\n",
       "      <td>0.855458</td>\n",
       "      <td>0.746180</td>\n",
       "      <td>0.734194</td>\n",
       "      <td>0.463411</td>\n",
       "      <td>1982</td>\n",
       "    </tr>\n",
       "    <tr>\n",
       "      <th>17</th>\n",
       "      <td>0.781341</td>\n",
       "      <td>0.795925</td>\n",
       "      <td>0.781341</td>\n",
       "      <td>0.787364</td>\n",
       "      <td>0.710911</td>\n",
       "      <td>1983</td>\n",
       "    </tr>\n",
       "    <tr>\n",
       "      <th>18</th>\n",
       "      <td>0.776542</td>\n",
       "      <td>0.710870</td>\n",
       "      <td>0.776542</td>\n",
       "      <td>0.740146</td>\n",
       "      <td>0.711768</td>\n",
       "      <td>1984</td>\n",
       "    </tr>\n",
       "    <tr>\n",
       "      <th>19</th>\n",
       "      <td>0.822791</td>\n",
       "      <td>0.746806</td>\n",
       "      <td>0.822791</td>\n",
       "      <td>0.782484</td>\n",
       "      <td>0.713093</td>\n",
       "      <td>1985</td>\n",
       "    </tr>\n",
       "    <tr>\n",
       "      <th>20</th>\n",
       "      <td>0.759720</td>\n",
       "      <td>0.884435</td>\n",
       "      <td>0.759720</td>\n",
       "      <td>0.778469</td>\n",
       "      <td>0.684066</td>\n",
       "      <td>1986</td>\n",
       "    </tr>\n",
       "    <tr>\n",
       "      <th>21</th>\n",
       "      <td>0.731901</td>\n",
       "      <td>0.734951</td>\n",
       "      <td>0.731901</td>\n",
       "      <td>0.725798</td>\n",
       "      <td>0.678761</td>\n",
       "      <td>1987</td>\n",
       "    </tr>\n",
       "    <tr>\n",
       "      <th>22</th>\n",
       "      <td>0.814522</td>\n",
       "      <td>0.820942</td>\n",
       "      <td>0.814522</td>\n",
       "      <td>0.817006</td>\n",
       "      <td>0.675493</td>\n",
       "      <td>1988</td>\n",
       "    </tr>\n",
       "    <tr>\n",
       "      <th>23</th>\n",
       "      <td>0.818423</td>\n",
       "      <td>0.837540</td>\n",
       "      <td>0.818423</td>\n",
       "      <td>0.806728</td>\n",
       "      <td>0.637960</td>\n",
       "      <td>1989</td>\n",
       "    </tr>\n",
       "    <tr>\n",
       "      <th>24</th>\n",
       "      <td>0.808019</td>\n",
       "      <td>0.878913</td>\n",
       "      <td>0.808019</td>\n",
       "      <td>0.837354</td>\n",
       "      <td>0.527176</td>\n",
       "      <td>1990</td>\n",
       "    </tr>\n",
       "    <tr>\n",
       "      <th>25</th>\n",
       "      <td>0.485830</td>\n",
       "      <td>0.775134</td>\n",
       "      <td>0.485830</td>\n",
       "      <td>0.575598</td>\n",
       "      <td>0.408721</td>\n",
       "      <td>1991</td>\n",
       "    </tr>\n",
       "    <tr>\n",
       "      <th>26</th>\n",
       "      <td>0.455882</td>\n",
       "      <td>0.863554</td>\n",
       "      <td>0.455882</td>\n",
       "      <td>0.576998</td>\n",
       "      <td>0.290207</td>\n",
       "      <td>1992</td>\n",
       "    </tr>\n",
       "    <tr>\n",
       "      <th>27</th>\n",
       "      <td>0.434343</td>\n",
       "      <td>0.850973</td>\n",
       "      <td>0.434343</td>\n",
       "      <td>0.538828</td>\n",
       "      <td>0.629349</td>\n",
       "      <td>1993</td>\n",
       "    </tr>\n",
       "    <tr>\n",
       "      <th>28</th>\n",
       "      <td>0.763530</td>\n",
       "      <td>0.931467</td>\n",
       "      <td>0.763530</td>\n",
       "      <td>0.833485</td>\n",
       "      <td>0.632758</td>\n",
       "      <td>1994</td>\n",
       "    </tr>\n",
       "    <tr>\n",
       "      <th>29</th>\n",
       "      <td>0.750082</td>\n",
       "      <td>0.883997</td>\n",
       "      <td>0.750082</td>\n",
       "      <td>0.794956</td>\n",
       "      <td>0.458841</td>\n",
       "      <td>1995</td>\n",
       "    </tr>\n",
       "    <tr>\n",
       "      <th>30</th>\n",
       "      <td>0.569140</td>\n",
       "      <td>0.738951</td>\n",
       "      <td>0.569140</td>\n",
       "      <td>0.601146</td>\n",
       "      <td>0.383943</td>\n",
       "      <td>1996</td>\n",
       "    </tr>\n",
       "    <tr>\n",
       "      <th>31</th>\n",
       "      <td>0.625502</td>\n",
       "      <td>0.931054</td>\n",
       "      <td>0.625502</td>\n",
       "      <td>0.742048</td>\n",
       "      <td>0.492734</td>\n",
       "      <td>1997</td>\n",
       "    </tr>\n",
       "    <tr>\n",
       "      <th>32</th>\n",
       "      <td>0.593880</td>\n",
       "      <td>0.870037</td>\n",
       "      <td>0.593880</td>\n",
       "      <td>0.689528</td>\n",
       "      <td>0.412643</td>\n",
       "      <td>1998</td>\n",
       "    </tr>\n",
       "    <tr>\n",
       "      <th>33</th>\n",
       "      <td>0.600334</td>\n",
       "      <td>0.856265</td>\n",
       "      <td>0.600334</td>\n",
       "      <td>0.694251</td>\n",
       "      <td>0.596317</td>\n",
       "      <td>1999</td>\n",
       "    </tr>\n",
       "    <tr>\n",
       "      <th>34</th>\n",
       "      <td>0.611478</td>\n",
       "      <td>0.840341</td>\n",
       "      <td>0.611478</td>\n",
       "      <td>0.688899</td>\n",
       "      <td>0.600859</td>\n",
       "      <td>2000</td>\n",
       "    </tr>\n",
       "    <tr>\n",
       "      <th>35</th>\n",
       "      <td>0.737367</td>\n",
       "      <td>0.913159</td>\n",
       "      <td>0.737367</td>\n",
       "      <td>0.800702</td>\n",
       "      <td>0.623829</td>\n",
       "      <td>2001</td>\n",
       "    </tr>\n",
       "    <tr>\n",
       "      <th>36</th>\n",
       "      <td>0.717743</td>\n",
       "      <td>0.925642</td>\n",
       "      <td>0.717743</td>\n",
       "      <td>0.780576</td>\n",
       "      <td>0.656779</td>\n",
       "      <td>2002</td>\n",
       "    </tr>\n",
       "    <tr>\n",
       "      <th>37</th>\n",
       "      <td>0.686143</td>\n",
       "      <td>0.900944</td>\n",
       "      <td>0.686143</td>\n",
       "      <td>0.758201</td>\n",
       "      <td>0.682916</td>\n",
       "      <td>2003</td>\n",
       "    </tr>\n",
       "    <tr>\n",
       "      <th>38</th>\n",
       "      <td>0.691011</td>\n",
       "      <td>0.901048</td>\n",
       "      <td>0.691011</td>\n",
       "      <td>0.769771</td>\n",
       "      <td>0.686153</td>\n",
       "      <td>2004</td>\n",
       "    </tr>\n",
       "    <tr>\n",
       "      <th>39</th>\n",
       "      <td>0.748293</td>\n",
       "      <td>0.885427</td>\n",
       "      <td>0.748293</td>\n",
       "      <td>0.788584</td>\n",
       "      <td>0.658241</td>\n",
       "      <td>2005</td>\n",
       "    </tr>\n",
       "    <tr>\n",
       "      <th>40</th>\n",
       "      <td>0.792617</td>\n",
       "      <td>0.939801</td>\n",
       "      <td>0.792617</td>\n",
       "      <td>0.846570</td>\n",
       "      <td>0.751332</td>\n",
       "      <td>2006</td>\n",
       "    </tr>\n",
       "    <tr>\n",
       "      <th>41</th>\n",
       "      <td>0.807446</td>\n",
       "      <td>0.937119</td>\n",
       "      <td>0.807446</td>\n",
       "      <td>0.851192</td>\n",
       "      <td>0.729831</td>\n",
       "      <td>2007</td>\n",
       "    </tr>\n",
       "    <tr>\n",
       "      <th>42</th>\n",
       "      <td>0.840280</td>\n",
       "      <td>0.922583</td>\n",
       "      <td>0.840280</td>\n",
       "      <td>0.860255</td>\n",
       "      <td>0.749546</td>\n",
       "      <td>2008</td>\n",
       "    </tr>\n",
       "    <tr>\n",
       "      <th>43</th>\n",
       "      <td>0.819845</td>\n",
       "      <td>0.906398</td>\n",
       "      <td>0.819845</td>\n",
       "      <td>0.822071</td>\n",
       "      <td>0.629611</td>\n",
       "      <td>2009</td>\n",
       "    </tr>\n",
       "    <tr>\n",
       "      <th>44</th>\n",
       "      <td>0.830094</td>\n",
       "      <td>0.902332</td>\n",
       "      <td>0.830094</td>\n",
       "      <td>0.852185</td>\n",
       "      <td>0.689779</td>\n",
       "      <td>2010</td>\n",
       "    </tr>\n",
       "    <tr>\n",
       "      <th>45</th>\n",
       "      <td>0.860826</td>\n",
       "      <td>0.913188</td>\n",
       "      <td>0.860826</td>\n",
       "      <td>0.865770</td>\n",
       "      <td>0.694727</td>\n",
       "      <td>2011</td>\n",
       "    </tr>\n",
       "    <tr>\n",
       "      <th>46</th>\n",
       "      <td>0.844937</td>\n",
       "      <td>0.892616</td>\n",
       "      <td>0.844937</td>\n",
       "      <td>0.842363</td>\n",
       "      <td>0.703764</td>\n",
       "      <td>2012</td>\n",
       "    </tr>\n",
       "    <tr>\n",
       "      <th>47</th>\n",
       "      <td>0.900949</td>\n",
       "      <td>0.928938</td>\n",
       "      <td>0.900949</td>\n",
       "      <td>0.899007</td>\n",
       "      <td>0.707871</td>\n",
       "      <td>2013</td>\n",
       "    </tr>\n",
       "    <tr>\n",
       "      <th>48</th>\n",
       "      <td>0.865657</td>\n",
       "      <td>0.902898</td>\n",
       "      <td>0.865657</td>\n",
       "      <td>0.836769</td>\n",
       "      <td>0.643918</td>\n",
       "      <td>2014</td>\n",
       "    </tr>\n",
       "  </tbody>\n",
       "</table>\n",
       "</div>"
      ],
      "text/plain": [
       "    recall_instr_imeta  precision_instr_imeta  accuracy_instr_imeta  \\\n",
       "0             1.000000               1.000000              1.000000   \n",
       "1             1.000000               1.000000              1.000000   \n",
       "2             0.964310               0.976372              0.964310   \n",
       "3             0.917959               0.967968              0.917959   \n",
       "4             0.864278               0.912537              0.864278   \n",
       "5             0.943987               0.960305              0.943987   \n",
       "6             0.886832               0.944703              0.886832   \n",
       "7             0.927520               0.961921              0.927520   \n",
       "8             0.955228               0.977273              0.955228   \n",
       "9             0.944742               0.968787              0.944742   \n",
       "10            0.881553               0.933526              0.881553   \n",
       "11            0.772274               0.892888              0.772274   \n",
       "12            0.813977               0.903085              0.813977   \n",
       "13            0.729555               0.750534              0.729555   \n",
       "14            0.694024               0.634808              0.694024   \n",
       "15            0.659158               0.795500              0.659158   \n",
       "16            0.746180               0.855458              0.746180   \n",
       "17            0.781341               0.795925              0.781341   \n",
       "18            0.776542               0.710870              0.776542   \n",
       "19            0.822791               0.746806              0.822791   \n",
       "20            0.759720               0.884435              0.759720   \n",
       "21            0.731901               0.734951              0.731901   \n",
       "22            0.814522               0.820942              0.814522   \n",
       "23            0.818423               0.837540              0.818423   \n",
       "24            0.808019               0.878913              0.808019   \n",
       "25            0.485830               0.775134              0.485830   \n",
       "26            0.455882               0.863554              0.455882   \n",
       "27            0.434343               0.850973              0.434343   \n",
       "28            0.763530               0.931467              0.763530   \n",
       "29            0.750082               0.883997              0.750082   \n",
       "30            0.569140               0.738951              0.569140   \n",
       "31            0.625502               0.931054              0.625502   \n",
       "32            0.593880               0.870037              0.593880   \n",
       "33            0.600334               0.856265              0.600334   \n",
       "34            0.611478               0.840341              0.611478   \n",
       "35            0.737367               0.913159              0.737367   \n",
       "36            0.717743               0.925642              0.717743   \n",
       "37            0.686143               0.900944              0.686143   \n",
       "38            0.691011               0.901048              0.691011   \n",
       "39            0.748293               0.885427              0.748293   \n",
       "40            0.792617               0.939801              0.792617   \n",
       "41            0.807446               0.937119              0.807446   \n",
       "42            0.840280               0.922583              0.840280   \n",
       "43            0.819845               0.906398              0.819845   \n",
       "44            0.830094               0.902332              0.830094   \n",
       "45            0.860826               0.913188              0.860826   \n",
       "46            0.844937               0.892616              0.844937   \n",
       "47            0.900949               0.928938              0.900949   \n",
       "48            0.865657               0.902898              0.865657   \n",
       "\n",
       "    f1_instr_imeta  balanced_accuracy_instr_imeta  year  \n",
       "0         1.000000                       1.000000  1966  \n",
       "1         1.000000                       1.000000  1967  \n",
       "2         0.967816                       0.970375  1968  \n",
       "3         0.934381                       0.965044  1969  \n",
       "4         0.874852                       0.714141  1970  \n",
       "5         0.947983                       0.976447  1971  \n",
       "6         0.905361                       0.908718  1972  \n",
       "7         0.938396                       0.972062  1973  \n",
       "8         0.964941                       0.970050  1974  \n",
       "9         0.954064                       0.734425  1975  \n",
       "10        0.899338                       0.721234  1976  \n",
       "11        0.793587                       0.535272  1977  \n",
       "12        0.822194                       0.711011  1978  \n",
       "13        0.736059                       0.694810  1979  \n",
       "14        0.662022                       0.705522  1980  \n",
       "15        0.609732                       0.708945  1981  \n",
       "16        0.734194                       0.463411  1982  \n",
       "17        0.787364                       0.710911  1983  \n",
       "18        0.740146                       0.711768  1984  \n",
       "19        0.782484                       0.713093  1985  \n",
       "20        0.778469                       0.684066  1986  \n",
       "21        0.725798                       0.678761  1987  \n",
       "22        0.817006                       0.675493  1988  \n",
       "23        0.806728                       0.637960  1989  \n",
       "24        0.837354                       0.527176  1990  \n",
       "25        0.575598                       0.408721  1991  \n",
       "26        0.576998                       0.290207  1992  \n",
       "27        0.538828                       0.629349  1993  \n",
       "28        0.833485                       0.632758  1994  \n",
       "29        0.794956                       0.458841  1995  \n",
       "30        0.601146                       0.383943  1996  \n",
       "31        0.742048                       0.492734  1997  \n",
       "32        0.689528                       0.412643  1998  \n",
       "33        0.694251                       0.596317  1999  \n",
       "34        0.688899                       0.600859  2000  \n",
       "35        0.800702                       0.623829  2001  \n",
       "36        0.780576                       0.656779  2002  \n",
       "37        0.758201                       0.682916  2003  \n",
       "38        0.769771                       0.686153  2004  \n",
       "39        0.788584                       0.658241  2005  \n",
       "40        0.846570                       0.751332  2006  \n",
       "41        0.851192                       0.729831  2007  \n",
       "42        0.860255                       0.749546  2008  \n",
       "43        0.822071                       0.629611  2009  \n",
       "44        0.852185                       0.689779  2010  \n",
       "45        0.865770                       0.694727  2011  \n",
       "46        0.842363                       0.703764  2012  \n",
       "47        0.899007                       0.707871  2013  \n",
       "48        0.836769                       0.643918  2014  "
      ]
     },
     "execution_count": 79,
     "metadata": {},
     "output_type": "execute_result"
    }
   ],
   "source": [
    "imeta_metric_annual_df = pandas.DataFrame({ f'{metric_name}_instr_imeta' :\n",
    "    [metric1['metric_func'](\n",
    "        xbt_test.filter_obs({'year': y1}).filter_features([f'{target_feature_name}_imeta']).get_ml_dataset()[0],\n",
    "        xbt_test.filter_obs({'year': y1}).filter_features([target_feature_name]).get_ml_dataset()[0],\n",
    "        **metric1['metric_args_dict']\n",
    "    ) for y1 in range(*year_range)]\n",
    "    for metric_name,metric1 in metrics_defs_dict.items()    \n",
    "})\n",
    "imeta_metric_annual_df['year'] = [y1 for y1 in range(*year_range)]"
   ]
  },
  {
   "cell_type": "code",
   "execution_count": 56,
   "metadata": {},
   "outputs": [
    {
     "name": "stdout",
     "output_type": "stream",
     "text": [
      "CPU times: user 2min 13s, sys: 8.57 s, total: 2min 22s\n",
      "Wall time: 1min 22s\n"
     ]
    }
   ],
   "source": [
    "%%time\n",
    "metrics_test_resampled_ens = pandas.DataFrame({ f'{metric_name}_instr_ens': [\n",
    "    calc_metric_subset(xbt_test, \n",
    "                       clf1, \n",
    "                       None,\n",
    "                       input_feature_names,\n",
    "                       target_feature_name,\n",
    "                       **metric1\n",
    "                      ) \n",
    "    for clf_name, clf_dict1 in clf_dict_resampled.items() \n",
    "    for res_ix1, clf1 in clf_dict1.items()]\n",
    " for metric_name,metric1 in metrics_defs_dict.items() \n",
    "})\n",
    "metrics_test_resampled_ens['classifier'] = [\n",
    "    f'resampled_{clf_name}_{res_ix1}' \n",
    "    for clf_name, clf_dict1 in clf_dict_resampled.items() \n",
    "    for res_ix1, clf1 in clf_dict1.items()]\n"
   ]
  },
  {
   "cell_type": "code",
   "execution_count": 57,
   "metadata": {},
   "outputs": [
    {
     "name": "stdout",
     "output_type": "stream",
     "text": [
      "CPU times: user 2min 12s, sys: 8.69 s, total: 2min 20s\n",
      "Wall time: 1min 21s\n"
     ]
    }
   ],
   "source": [
    "%%time\n",
    "metrics_test_cv_ens = pandas.DataFrame({ f'{metric_name}_instr_ens': [\n",
    "    calc_metric_subset(xbt_test, \n",
    "                       clf1, \n",
    "                       None,\n",
    "                       input_feature_names,\n",
    "                       target_feature_name,\n",
    "                       **metric1\n",
    "                      ) \n",
    "    for clf_name, clf_dict1 in clf_dict_cv.items() \n",
    "    for res_ix1, clf1 in clf_dict1.items()]\n",
    " for metric_name,metric1 in metrics_defs_dict.items() \n",
    "})\n",
    "metrics_test_cv_ens['classifier'] = [\n",
    "    f'cv_{res_ix1}' \n",
    "    for clf_name, clf_dict1 in clf_dict_cv.items() \n",
    "    for res_ix1, clf1 in clf_dict1.items()]"
   ]
  },
  {
   "cell_type": "code",
   "execution_count": 58,
   "metadata": {},
   "outputs": [
    {
     "data": {
      "text/html": [
       "<div>\n",
       "<style scoped>\n",
       "    .dataframe tbody tr th:only-of-type {\n",
       "        vertical-align: middle;\n",
       "    }\n",
       "\n",
       "    .dataframe tbody tr th {\n",
       "        vertical-align: top;\n",
       "    }\n",
       "\n",
       "    .dataframe thead th {\n",
       "        text-align: right;\n",
       "    }\n",
       "</style>\n",
       "<table border=\"1\" class=\"dataframe\">\n",
       "  <thead>\n",
       "    <tr style=\"text-align: right;\">\n",
       "      <th></th>\n",
       "      <th>recall_instr_ens</th>\n",
       "      <th>precision_instr_ens</th>\n",
       "      <th>accuracy_instr_ens</th>\n",
       "      <th>f1_instr_ens</th>\n",
       "      <th>balanced_accuracy_instr_ens</th>\n",
       "      <th>classifier</th>\n",
       "    </tr>\n",
       "  </thead>\n",
       "  <tbody>\n",
       "    <tr>\n",
       "      <th>0</th>\n",
       "      <td>0.871047</td>\n",
       "      <td>0.882486</td>\n",
       "      <td>0.871047</td>\n",
       "      <td>0.875692</td>\n",
       "      <td>0.726132</td>\n",
       "      <td>resampled_mlp_mlp_resampled_0</td>\n",
       "    </tr>\n",
       "    <tr>\n",
       "      <th>1</th>\n",
       "      <td>0.882221</td>\n",
       "      <td>0.892979</td>\n",
       "      <td>0.882221</td>\n",
       "      <td>0.886507</td>\n",
       "      <td>0.687411</td>\n",
       "      <td>resampled_mlp_mlp_resampled_1</td>\n",
       "    </tr>\n",
       "    <tr>\n",
       "      <th>2</th>\n",
       "      <td>0.867938</td>\n",
       "      <td>0.882635</td>\n",
       "      <td>0.867938</td>\n",
       "      <td>0.873849</td>\n",
       "      <td>0.759526</td>\n",
       "      <td>resampled_mlp_mlp_resampled_2</td>\n",
       "    </tr>\n",
       "    <tr>\n",
       "      <th>3</th>\n",
       "      <td>0.942004</td>\n",
       "      <td>0.943746</td>\n",
       "      <td>0.942004</td>\n",
       "      <td>0.942692</td>\n",
       "      <td>0.779850</td>\n",
       "      <td>resampled_decision_tree_decision_tree_resampled_0</td>\n",
       "    </tr>\n",
       "    <tr>\n",
       "      <th>4</th>\n",
       "      <td>0.942027</td>\n",
       "      <td>0.943805</td>\n",
       "      <td>0.942027</td>\n",
       "      <td>0.942724</td>\n",
       "      <td>0.783753</td>\n",
       "      <td>resampled_decision_tree_decision_tree_resampled_1</td>\n",
       "    </tr>\n",
       "    <tr>\n",
       "      <th>5</th>\n",
       "      <td>0.941952</td>\n",
       "      <td>0.943663</td>\n",
       "      <td>0.941952</td>\n",
       "      <td>0.942634</td>\n",
       "      <td>0.775791</td>\n",
       "      <td>resampled_decision_tree_decision_tree_resampled_2</td>\n",
       "    </tr>\n",
       "    <tr>\n",
       "      <th>6</th>\n",
       "      <td>0.948146</td>\n",
       "      <td>0.951819</td>\n",
       "      <td>0.948146</td>\n",
       "      <td>0.949370</td>\n",
       "      <td>0.917276</td>\n",
       "      <td>resampled_random_forest_random_forest_resampled_0</td>\n",
       "    </tr>\n",
       "    <tr>\n",
       "      <th>7</th>\n",
       "      <td>0.949025</td>\n",
       "      <td>0.952567</td>\n",
       "      <td>0.949025</td>\n",
       "      <td>0.950258</td>\n",
       "      <td>0.899256</td>\n",
       "      <td>resampled_random_forest_random_forest_resampled_1</td>\n",
       "    </tr>\n",
       "    <tr>\n",
       "      <th>8</th>\n",
       "      <td>0.948433</td>\n",
       "      <td>0.952089</td>\n",
       "      <td>0.948433</td>\n",
       "      <td>0.949661</td>\n",
       "      <td>0.902694</td>\n",
       "      <td>resampled_random_forest_random_forest_resampled_2</td>\n",
       "    </tr>\n",
       "    <tr>\n",
       "      <th>9</th>\n",
       "      <td>0.917916</td>\n",
       "      <td>0.922178</td>\n",
       "      <td>0.917916</td>\n",
       "      <td>0.919391</td>\n",
       "      <td>0.833471</td>\n",
       "      <td>resampled_xbgoost_xbgoost_resampled_0</td>\n",
       "    </tr>\n",
       "    <tr>\n",
       "      <th>10</th>\n",
       "      <td>0.917916</td>\n",
       "      <td>0.922178</td>\n",
       "      <td>0.917916</td>\n",
       "      <td>0.919391</td>\n",
       "      <td>0.833471</td>\n",
       "      <td>resampled_xbgoost_xbgoost_resampled_1</td>\n",
       "    </tr>\n",
       "    <tr>\n",
       "      <th>11</th>\n",
       "      <td>0.917916</td>\n",
       "      <td>0.922178</td>\n",
       "      <td>0.917916</td>\n",
       "      <td>0.919391</td>\n",
       "      <td>0.833471</td>\n",
       "      <td>resampled_xbgoost_xbgoost_resampled_2</td>\n",
       "    </tr>\n",
       "    <tr>\n",
       "      <th>12</th>\n",
       "      <td>0.780850</td>\n",
       "      <td>0.834640</td>\n",
       "      <td>0.780850</td>\n",
       "      <td>0.801250</td>\n",
       "      <td>0.570138</td>\n",
       "      <td>resampled_logreg_logreg_resampled_0</td>\n",
       "    </tr>\n",
       "    <tr>\n",
       "      <th>13</th>\n",
       "      <td>0.780850</td>\n",
       "      <td>0.834640</td>\n",
       "      <td>0.780850</td>\n",
       "      <td>0.801250</td>\n",
       "      <td>0.570138</td>\n",
       "      <td>resampled_logreg_logreg_resampled_1</td>\n",
       "    </tr>\n",
       "    <tr>\n",
       "      <th>14</th>\n",
       "      <td>0.780850</td>\n",
       "      <td>0.834640</td>\n",
       "      <td>0.780850</td>\n",
       "      <td>0.801250</td>\n",
       "      <td>0.570138</td>\n",
       "      <td>resampled_logreg_logreg_resampled_2</td>\n",
       "    </tr>\n",
       "    <tr>\n",
       "      <th>0</th>\n",
       "      <td>0.879023</td>\n",
       "      <td>0.890146</td>\n",
       "      <td>0.879023</td>\n",
       "      <td>0.883653</td>\n",
       "      <td>0.780775</td>\n",
       "      <td>cv_mlp_0</td>\n",
       "    </tr>\n",
       "    <tr>\n",
       "      <th>1</th>\n",
       "      <td>0.873285</td>\n",
       "      <td>0.884819</td>\n",
       "      <td>0.873285</td>\n",
       "      <td>0.877558</td>\n",
       "      <td>0.744346</td>\n",
       "      <td>cv_mlp_1</td>\n",
       "    </tr>\n",
       "    <tr>\n",
       "      <th>2</th>\n",
       "      <td>0.882884</td>\n",
       "      <td>0.896237</td>\n",
       "      <td>0.882884</td>\n",
       "      <td>0.888165</td>\n",
       "      <td>0.718626</td>\n",
       "      <td>cv_mlp_2</td>\n",
       "    </tr>\n",
       "    <tr>\n",
       "      <th>3</th>\n",
       "      <td>0.941327</td>\n",
       "      <td>0.942934</td>\n",
       "      <td>0.941327</td>\n",
       "      <td>0.941942</td>\n",
       "      <td>0.758454</td>\n",
       "      <td>cv_decision_tree_0</td>\n",
       "    </tr>\n",
       "    <tr>\n",
       "      <th>4</th>\n",
       "      <td>0.939812</td>\n",
       "      <td>0.942002</td>\n",
       "      <td>0.939812</td>\n",
       "      <td>0.940672</td>\n",
       "      <td>0.747517</td>\n",
       "      <td>cv_decision_tree_1</td>\n",
       "    </tr>\n",
       "    <tr>\n",
       "      <th>5</th>\n",
       "      <td>0.940960</td>\n",
       "      <td>0.942910</td>\n",
       "      <td>0.940960</td>\n",
       "      <td>0.941751</td>\n",
       "      <td>0.745139</td>\n",
       "      <td>cv_decision_tree_2</td>\n",
       "    </tr>\n",
       "    <tr>\n",
       "      <th>6</th>\n",
       "      <td>0.946820</td>\n",
       "      <td>0.950526</td>\n",
       "      <td>0.946820</td>\n",
       "      <td>0.948100</td>\n",
       "      <td>0.881469</td>\n",
       "      <td>cv_random_forest_0</td>\n",
       "    </tr>\n",
       "    <tr>\n",
       "      <th>7</th>\n",
       "      <td>0.948621</td>\n",
       "      <td>0.952345</td>\n",
       "      <td>0.948621</td>\n",
       "      <td>0.949884</td>\n",
       "      <td>0.915603</td>\n",
       "      <td>cv_random_forest_1</td>\n",
       "    </tr>\n",
       "    <tr>\n",
       "      <th>8</th>\n",
       "      <td>0.947530</td>\n",
       "      <td>0.951387</td>\n",
       "      <td>0.947530</td>\n",
       "      <td>0.948821</td>\n",
       "      <td>0.912657</td>\n",
       "      <td>cv_random_forest_2</td>\n",
       "    </tr>\n",
       "    <tr>\n",
       "      <th>9</th>\n",
       "      <td>0.920074</td>\n",
       "      <td>0.925565</td>\n",
       "      <td>0.920074</td>\n",
       "      <td>0.921863</td>\n",
       "      <td>0.866525</td>\n",
       "      <td>cv_xbgoost_0</td>\n",
       "    </tr>\n",
       "    <tr>\n",
       "      <th>10</th>\n",
       "      <td>0.918151</td>\n",
       "      <td>0.924063</td>\n",
       "      <td>0.918151</td>\n",
       "      <td>0.920055</td>\n",
       "      <td>0.840859</td>\n",
       "      <td>cv_xbgoost_1</td>\n",
       "    </tr>\n",
       "    <tr>\n",
       "      <th>11</th>\n",
       "      <td>0.921579</td>\n",
       "      <td>0.925251</td>\n",
       "      <td>0.921579</td>\n",
       "      <td>0.922855</td>\n",
       "      <td>0.848079</td>\n",
       "      <td>cv_xbgoost_2</td>\n",
       "    </tr>\n",
       "    <tr>\n",
       "      <th>12</th>\n",
       "      <td>0.774487</td>\n",
       "      <td>0.845819</td>\n",
       "      <td>0.774487</td>\n",
       "      <td>0.801408</td>\n",
       "      <td>0.542585</td>\n",
       "      <td>cv_logreg_0</td>\n",
       "    </tr>\n",
       "    <tr>\n",
       "      <th>13</th>\n",
       "      <td>0.779100</td>\n",
       "      <td>0.837480</td>\n",
       "      <td>0.779100</td>\n",
       "      <td>0.801765</td>\n",
       "      <td>0.525047</td>\n",
       "      <td>cv_logreg_1</td>\n",
       "    </tr>\n",
       "    <tr>\n",
       "      <th>14</th>\n",
       "      <td>0.781024</td>\n",
       "      <td>0.836346</td>\n",
       "      <td>0.781024</td>\n",
       "      <td>0.802524</td>\n",
       "      <td>0.516130</td>\n",
       "      <td>cv_logreg_2</td>\n",
       "    </tr>\n",
       "    <tr>\n",
       "      <th>0</th>\n",
       "      <td>0.759870</td>\n",
       "      <td>0.797223</td>\n",
       "      <td>0.759870</td>\n",
       "      <td>0.764410</td>\n",
       "      <td>0.592669</td>\n",
       "      <td>imeta</td>\n",
       "    </tr>\n",
       "  </tbody>\n",
       "</table>\n",
       "</div>"
      ],
      "text/plain": [
       "    recall_instr_ens  precision_instr_ens  accuracy_instr_ens  f1_instr_ens  \\\n",
       "0           0.871047             0.882486            0.871047      0.875692   \n",
       "1           0.882221             0.892979            0.882221      0.886507   \n",
       "2           0.867938             0.882635            0.867938      0.873849   \n",
       "3           0.942004             0.943746            0.942004      0.942692   \n",
       "4           0.942027             0.943805            0.942027      0.942724   \n",
       "5           0.941952             0.943663            0.941952      0.942634   \n",
       "6           0.948146             0.951819            0.948146      0.949370   \n",
       "7           0.949025             0.952567            0.949025      0.950258   \n",
       "8           0.948433             0.952089            0.948433      0.949661   \n",
       "9           0.917916             0.922178            0.917916      0.919391   \n",
       "10          0.917916             0.922178            0.917916      0.919391   \n",
       "11          0.917916             0.922178            0.917916      0.919391   \n",
       "12          0.780850             0.834640            0.780850      0.801250   \n",
       "13          0.780850             0.834640            0.780850      0.801250   \n",
       "14          0.780850             0.834640            0.780850      0.801250   \n",
       "0           0.879023             0.890146            0.879023      0.883653   \n",
       "1           0.873285             0.884819            0.873285      0.877558   \n",
       "2           0.882884             0.896237            0.882884      0.888165   \n",
       "3           0.941327             0.942934            0.941327      0.941942   \n",
       "4           0.939812             0.942002            0.939812      0.940672   \n",
       "5           0.940960             0.942910            0.940960      0.941751   \n",
       "6           0.946820             0.950526            0.946820      0.948100   \n",
       "7           0.948621             0.952345            0.948621      0.949884   \n",
       "8           0.947530             0.951387            0.947530      0.948821   \n",
       "9           0.920074             0.925565            0.920074      0.921863   \n",
       "10          0.918151             0.924063            0.918151      0.920055   \n",
       "11          0.921579             0.925251            0.921579      0.922855   \n",
       "12          0.774487             0.845819            0.774487      0.801408   \n",
       "13          0.779100             0.837480            0.779100      0.801765   \n",
       "14          0.781024             0.836346            0.781024      0.802524   \n",
       "0           0.759870             0.797223            0.759870      0.764410   \n",
       "\n",
       "    balanced_accuracy_instr_ens  \\\n",
       "0                      0.726132   \n",
       "1                      0.687411   \n",
       "2                      0.759526   \n",
       "3                      0.779850   \n",
       "4                      0.783753   \n",
       "5                      0.775791   \n",
       "6                      0.917276   \n",
       "7                      0.899256   \n",
       "8                      0.902694   \n",
       "9                      0.833471   \n",
       "10                     0.833471   \n",
       "11                     0.833471   \n",
       "12                     0.570138   \n",
       "13                     0.570138   \n",
       "14                     0.570138   \n",
       "0                      0.780775   \n",
       "1                      0.744346   \n",
       "2                      0.718626   \n",
       "3                      0.758454   \n",
       "4                      0.747517   \n",
       "5                      0.745139   \n",
       "6                      0.881469   \n",
       "7                      0.915603   \n",
       "8                      0.912657   \n",
       "9                      0.866525   \n",
       "10                     0.840859   \n",
       "11                     0.848079   \n",
       "12                     0.542585   \n",
       "13                     0.525047   \n",
       "14                     0.516130   \n",
       "0                      0.592669   \n",
       "\n",
       "                                           classifier  \n",
       "0                       resampled_mlp_mlp_resampled_0  \n",
       "1                       resampled_mlp_mlp_resampled_1  \n",
       "2                       resampled_mlp_mlp_resampled_2  \n",
       "3   resampled_decision_tree_decision_tree_resampled_0  \n",
       "4   resampled_decision_tree_decision_tree_resampled_1  \n",
       "5   resampled_decision_tree_decision_tree_resampled_2  \n",
       "6   resampled_random_forest_random_forest_resampled_0  \n",
       "7   resampled_random_forest_random_forest_resampled_1  \n",
       "8   resampled_random_forest_random_forest_resampled_2  \n",
       "9               resampled_xbgoost_xbgoost_resampled_0  \n",
       "10              resampled_xbgoost_xbgoost_resampled_1  \n",
       "11              resampled_xbgoost_xbgoost_resampled_2  \n",
       "12                resampled_logreg_logreg_resampled_0  \n",
       "13                resampled_logreg_logreg_resampled_1  \n",
       "14                resampled_logreg_logreg_resampled_2  \n",
       "0                                            cv_mlp_0  \n",
       "1                                            cv_mlp_1  \n",
       "2                                            cv_mlp_2  \n",
       "3                                  cv_decision_tree_0  \n",
       "4                                  cv_decision_tree_1  \n",
       "5                                  cv_decision_tree_2  \n",
       "6                                  cv_random_forest_0  \n",
       "7                                  cv_random_forest_1  \n",
       "8                                  cv_random_forest_2  \n",
       "9                                        cv_xbgoost_0  \n",
       "10                                       cv_xbgoost_1  \n",
       "11                                       cv_xbgoost_2  \n",
       "12                                        cv_logreg_0  \n",
       "13                                        cv_logreg_1  \n",
       "14                                        cv_logreg_2  \n",
       "0                                               imeta  "
      ]
     },
     "execution_count": 58,
     "metadata": {},
     "output_type": "execute_result"
    }
   ],
   "source": [
    "metrics_all_classifiers = pandas.concat([\n",
    "    metrics_test_resampled_ens,\n",
    "    metrics_test_cv_ens,\n",
    "    pandas.DataFrame.from_records([metrics_imeta_all]),\n",
    "])\n",
    "metrics_all_classifiers "
   ]
  },
  {
   "cell_type": "code",
   "execution_count": 60,
   "metadata": {},
   "outputs": [
    {
     "name": "stdout",
     "output_type": "stream",
     "text": [
      "CPU times: user 7min 32s, sys: 12.5 s, total: 7min 45s\n",
      "Wall time: 3min 6s\n"
     ]
    }
   ],
   "source": [
    "%%time\n",
    "metrics_raw_dict = { f'{metric_name}_instr_{res_ix1}': [calc_metric_subset(xbt_test, \n",
    "                   clf1, \n",
    "                   {target_feature_name: fn1},\n",
    "                   input_feature_names,\n",
    "                    target_feature_name,\n",
    "                   **metric1\n",
    "                  ) for  fn1 in instrument_list]\n",
    " for metric_name,metric1 in metrics_defs_dict.items() \n",
    " for clf_name, clf_dict1 in clf_dict_resampled.items() \n",
    "    for res_ix1, clf1 in clf_dict1.items()\n",
    "}\n",
    "metrics_raw_dict['num_profiles'] = [xbt_labelled.filter_obs({target_feature_name: fn1}).shape[0] \n",
    "                                    for  fn1 in instrument_list]\n",
    "metrics_raw_dict[target_feature_name] = [fn1 for  fn1 in instrument_list]\n",
    "\n",
    "metrics_per_class_resampled_df = pandas.DataFrame(metrics_raw_dict)\n",
    "metrics_per_class_resampled_df = metrics_per_class_resampled_df.sort_values('num_profiles', ascending=False)\n"
   ]
  },
  {
   "cell_type": "code",
   "execution_count": 61,
   "metadata": {},
   "outputs": [
    {
     "name": "stdout",
     "output_type": "stream",
     "text": [
      "CPU times: user 7min 26s, sys: 12 s, total: 7min 38s\n",
      "Wall time: 2min 35s\n"
     ]
    }
   ],
   "source": [
    "%%time\n",
    "metrics_raw_cv_dict = { f'{metric_name}_instr_{res_ix1}': [calc_metric_subset(xbt_test, \n",
    "                   clf1, \n",
    "                   {target_feature_name: fn1},\n",
    "                   input_feature_names,\n",
    "                    target_feature_name,\n",
    "                   **metric1\n",
    "                  ) for  fn1 in instrument_list]\n",
    "                       for metric_name,metric1 in metrics_defs_dict.items() \n",
    "                       for clf_name, clf_dict1 in clf_dict_cv.items() \n",
    "                       for res_ix1, clf1 in clf_dict1.items()\n",
    "}\n",
    "metrics_raw_cv_dict['num_profiles'] = [xbt_labelled.filter_obs({target_feature_name: fn1}).shape[0] \n",
    "                                       for fn1 in instrument_list]\n",
    "metrics_raw_cv_dict[target_feature_name] = [fn1 for  fn1 in instrument_list]\n",
    "\n",
    "metrics_per_class_cv_df = pandas.DataFrame(metrics_raw_cv_dict)\n",
    "metrics_per_class_cv_df = metrics_per_class_cv_df.sort_values('num_profiles', ascending=False)"
   ]
  },
  {
   "cell_type": "code",
   "execution_count": 62,
   "metadata": {},
   "outputs": [
    {
     "name": "stdout",
     "output_type": "stream",
     "text": [
      "CPU times: user 11min 34s, sys: 12.4 s, total: 11min 47s\n",
      "Wall time: 3min 36s\n"
     ]
    }
   ],
   "source": [
    "%%time\n",
    "metrics_annual_raw_dict = { f'{metric_name}_instr_{res_ix1}': [calc_metric_subset(xbt_test, \n",
    "                   clf1, \n",
    "                   {'year': year1},\n",
    "                   input_feature_names,\n",
    "                   target_feature_name,\n",
    "                   **metric1\n",
    "                  ) for  year1 in range(*year_range)]\n",
    "                           for metric_name,metric1 in metrics_defs_dict.items() \n",
    "                           for clf_name, clf_dict1 in clf_dict_resampled.items() \n",
    "                           for res_ix1, clf1 in clf_dict1.items()\n",
    "}\n",
    "metrics_annual_raw_dict['num_profiles'] = [xbt_labelled.filter_obs({'year': year1}).shape[0] \n",
    "                                           for year1 in range(*year_range)]\n",
    "metrics_annual_raw_dict['year'] = [year1 for  year1 in range(*year_range)]\n",
    "\n",
    "metrics_annual_resampled_df = pandas.DataFrame(metrics_annual_raw_dict)"
   ]
  },
  {
   "cell_type": "code",
   "execution_count": 81,
   "metadata": {},
   "outputs": [],
   "source": [
    "metrics_annual_resampled_df = metrics_annual_resampled_df.merge(imeta_metric_annual_df,on='year')"
   ]
  },
  {
   "cell_type": "code",
   "execution_count": 63,
   "metadata": {},
   "outputs": [
    {
     "name": "stdout",
     "output_type": "stream",
     "text": [
      "CPU times: user 11min 23s, sys: 10.8 s, total: 11min 34s\n",
      "Wall time: 3min 32s\n"
     ]
    }
   ],
   "source": [
    "%%time\n",
    "metrics_annual_raw_cv_dict = { f'{metric_name}_instr_{res_ix1}': [calc_metric_subset(xbt_test, \n",
    "                   clf1, \n",
    "                   {'year': year1},\n",
    "                   input_feature_names,\n",
    "                   target_feature_name,\n",
    "                   **metric1\n",
    "                  ) for  year1 in range(*year_range)]\n",
    "                              for metric_name,metric1 in metrics_defs_dict.items() \n",
    "                              for clf_name, clf_dict1 in clf_dict_cv.items() \n",
    "                              for res_ix1, clf1 in clf_dict1.items()\n",
    "                             }\n",
    "metrics_annual_raw_cv_dict['num_profiles'] = [xbt_labelled.filter_obs({'year': year1}).shape[0] for year1 in range(*year_range)]\n",
    "metrics_annual_raw_cv_dict['year'] = [year1 for  year1 in range(*year_range)]\n",
    "\n",
    "metrics_annual_cv_df = pandas.DataFrame(metrics_annual_raw_cv_dict)"
   ]
  },
  {
   "cell_type": "code",
   "execution_count": 82,
   "metadata": {},
   "outputs": [],
   "source": [
    "metrics_annual_cv_df = metrics_annual_cv_df.merge(imeta_metric_annual_df,on='year')"
   ]
  },
  {
   "cell_type": "code",
   "execution_count": 139,
   "metadata": {},
   "outputs": [
    {
     "data": {
      "image/png": "[encoded data removed]",
      "text/plain": [
       "<Figure size 864x576 with 1 Axes>"
      ]
     },
     "metadata": {},
     "output_type": "display_data"
    }
   ],
   "source": [
    "d1 = {\n",
    "    f'recall_{classifier_opts[k1][\"name\"]}': \n",
    "    metrics_annual_cv_df[[f'recall_instr_{k1}_{ix1}' \n",
    "                          for ix1 in range(num_test_splits)]].mean(axis='columns') \n",
    "    for k1,v1 in clf_dict_cv.items()}\n",
    "d1.update({\n",
    "    'recall imeta': metrics_annual_cv_df['recall_instr_imeta'],\n",
    "    'year': metrics_annual_cv_df['year'],\n",
    "})\n",
    "fig1 = matplotlib.pyplot.figure('recall_by_year_different_algorithms',figsize=)\n",
    "ax1 = fig1.add_subplot(1,1,1,title='Average recall by year for different classification algorithms')\n",
    "pandas.DataFrame(d1).plot.line(x='year', ax=ax1)\n",
    "fig1.savefig(plots_dir / 'recall_by_year_classifier_comparison_test_data.png')"
   ]
  },
  {
   "cell_type": "code",
   "execution_count": null,
   "metadata": {},
   "outputs": [
    {
     "data": {
      "text/plain": [
       "0.7598702001081665"
      ]
     },
     "execution_count": 132,
     "metadata": {},
     "output_type": "execute_result"
    }
   ],
   "source": []
  },
  {
   "cell_type": "code",
   "execution_count": null,
   "metadata": {},
   "outputs": [
    {
     "data": {
      "image/png": "[encoded data removed]",
      "text/plain": [
       "<Figure size 864x576 with 1 Axes>"
      ]
     },
     "metadata": {},
     "output_type": "display_data"
    }
   ],
   "source": [
    "d1 = {\n",
    "    'recall': [metrics_all_classifiers[metrics_all_classifiers['classifier'].str.contains(clf_name) & metrics_all_classifiers['classifier'].str.contains('cv')]['recall_instr_ens'].mean() for clf_name in classifier_opts.keys()],\n",
    "    'classifier': [f'{classifier_opts[clf_name][\"name\"]}' for clf_name in classifier_opts.keys()]\n",
    "}\n",
    "d1['recall'] += [metrics_imeta_all['recall_instr_ens']]\n",
    "d1['classifier'] += ['imeta']\n",
    "fig1 = matplotlib.pyplot.figure('recall_different_algorithms', figsize=(12,8))\n",
    "ax1 = fig1.add_subplot(1,1,1, title='Recall values for different classification algorithms')\n",
    "pandas.DataFrame(d1).plot.barh(x='classifier',ax=ax1)\n",
    "fig1.savefig(plots_dir / 'average_recall_by_algorithm_test_data.png')"
   ]
  },
  {
   "cell_type": "code",
   "execution_count": null,
   "metadata": {},
   "outputs": [],
   "source": [
    "fig1 = matplotlib.pyplot.figure('imbalanced_metrics_all', figsize=(12,28))\n",
    "ax1 = fig1.add_subplot(3,1,1,title='Recall for all data in splits')\n",
    "ΩΩ.plot.barh(x='classifier', y='recall_instr_ens', ax=ax1)\n",
    "ax1 = fig1.add_subplot(3,1,2,title='Precision for all data in splits')\n",
    "metrics_all_classifiers.plot.barh(x='classifier', y='precision_instr_ens', ax=ax1)\n",
    "ax1 = fig1.add_subplot(3,1,3,title='F1 for all data in splits')\n",
    "metrics_all_classifiers.plot.barh(x='classifier', y='f1_instr_ens', ax=ax1)"
   ]
  },
  {
   "cell_type": "code",
   "execution_count": null,
   "metadata": {},
   "outputs": [],
   "source": [
    "metrics_per_class_cv_df_plot = metrics_per_class_cv_df[[(xbt_test.filter_obs({target_feature_name: ins1}).shape[0] >10) for ins1 in metrics_per_class_cv_df['instrument']]]\n",
    "metrics_per_class_resampled_df_plot = metrics_per_class_resampled_df[[(xbt_test.filter_obs({target_feature_name: ins1}).shape[0] >10) for ins1 in metrics_per_class_resampled_df['instrument']]]"
   ]
  },
  {
   "cell_type": "code",
   "execution_count": null,
   "metadata": {},
   "outputs": [],
   "source": [
    "metrics_per_class_cv_df[['recall_instr_avg', 'instrument', 'num_profiles']]"
   ]
  },
  {
   "cell_type": "markdown",
   "metadata": {},
   "source": [
    "We see that results are comparable for the three tree based algorithms. We have chosen decision trees as a result as they are much quicker to train, and also easier to explain and interpret to the users of the system (ocean scientists), both for individual trees and our bespoke ensemble."
   ]
  },
  {
   "cell_type": "code",
   "execution_count": null,
   "metadata": {},
   "outputs": [],
   "source": []
  }
 ],
 "metadata": {
  "kernelspec": {
   "display_name": "Python 3 (ipykernel)",
   "language": "python",
   "name": "python3"
  },
  "language_info": {
   "codemirror_mode": {
    "name": "ipython",
    "version": 3
   },
   "file_extension": ".py",
   "mimetype": "text/x-python",
   "name": "python",
   "nbconvert_exporter": "python",
   "pygments_lexer": "ipython3",
   "version": "3.8.12"
  }
 },
 "nbformat": 4,
 "nbformat_minor": 4
}
