{
 "cells": [
  {
   "cell_type": "markdown",
   "metadata": {},
   "source": [
    "# Gradient-boosted trees - XGBoost library\n",
    "\n",
    "The iMeta algorithm is essentially a decision tree algorithm, where the variables and threshold for the decisions at each step are manually specified based on human analysis. The simplest way to apply machine learning techniques to the problem would be to use a similar structure to iMeta, which is a decision tree, but use standard ML training techiniques to learn the parameters such as what thresholds to use and how many branches/leaves to have in the tree for the best results. Gredient boosted trees are the current state of the art in decision tree ensembles, so a natural extension to the manual imeta tree approach."
   ]
  },
  {
   "cell_type": "code",
   "execution_count": 1,
   "metadata": {},
   "outputs": [],
   "source": [
    "import os\n",
    "import sys\n",
    "import pathlib\n",
    "import functools\n",
    "import itertools\n",
    "import random"
   ]
  },
  {
   "cell_type": "code",
   "execution_count": 2,
   "metadata": {},
   "outputs": [],
   "source": [
    "import pandas\n",
    "import numpy"
   ]
  },
  {
   "cell_type": "code",
   "execution_count": 3,
   "metadata": {},
   "outputs": [],
   "source": [
    "import matplotlib\n",
    "import matplotlib.pyplot\n",
    "import warnings\n",
    "warnings.filterwarnings('ignore')"
   ]
  },
  {
   "cell_type": "code",
   "execution_count": 4,
   "metadata": {},
   "outputs": [],
   "source": [
    "font = {'family' : 'normal',\n",
    "        'size'   : 22}\n",
    "matplotlib.rc('font', **font)\n",
    "matplotlib.pyplot.style.use('ggplot')"
   ]
  },
  {
   "cell_type": "code",
   "execution_count": 5,
   "metadata": {},
   "outputs": [],
   "source": [
    "import ipywidgets\n",
    "import time"
   ]
  },
  {
   "cell_type": "code",
   "execution_count": 6,
   "metadata": {},
   "outputs": [],
   "source": [
    "import sklearn\n",
    "import sklearn.model_selection\n",
    "import sklearn.preprocessing\n",
    "import sklearn.tree\n",
    "import sklearn.metrics"
   ]
  },
  {
   "cell_type": "code",
   "execution_count": 7,
   "metadata": {},
   "outputs": [],
   "source": [
    "import xgboost"
   ]
  },
  {
   "cell_type": "code",
   "execution_count": 8,
   "metadata": {},
   "outputs": [],
   "source": [
    "root_repo_dir = pathlib.Path().absolute().parent\n",
    "sys.path = [os.path.join(root_repo_dir)] + sys.path"
   ]
  },
  {
   "cell_type": "code",
   "execution_count": 9,
   "metadata": {},
   "outputs": [],
   "source": [
    "import xbt.dataset\n",
    "from xbt.dataset import XbtDataset, UNKNOWN_STR, cat_output_formatter, check_value_found\n",
    "from xbt.imeta import imeta_classification, XBT_MAX_DEPTH"
   ]
  },
  {
   "cell_type": "code",
   "execution_count": 10,
   "metadata": {},
   "outputs": [
    {
     "name": "stdout",
     "output_type": "stream",
     "text": [
      "local\n"
     ]
    }
   ],
   "source": [
    "# Set up some site specific parameters for the notebook\n",
    "try:\n",
    "    environment = os.environ['XBT_ENV_NAME']\n",
    "except KeyError:\n",
    "    environment = 'pangeo'\n",
    "print(environment)"
   ]
  },
  {
   "cell_type": "code",
   "execution_count": 11,
   "metadata": {},
   "outputs": [
    {
     "name": "stdout",
     "output_type": "stream",
     "text": [
      "/Users/stephen.haddad/data/xbt-data/\n",
      "(1966, 2015)\n"
     ]
    }
   ],
   "source": [
    "try:\n",
    "    root_data_dir = os.environ['XBT_ROOT_DIR']\n",
    "except KeyError:\n",
    "    root_data_dir = '/data/users/shaddad/xbt-data/',\n",
    "    \n",
    "year_range = (1966,2015)\n",
    "print(root_data_dir)\n",
    "print(year_range)"
   ]
  },
  {
   "cell_type": "code",
   "execution_count": 12,
   "metadata": {},
   "outputs": [],
   "source": [
    "metrics_avg = 'weighted'\n",
    "cv_metric_names = [f'recall_{metrics_avg}', f'precision_{metrics_avg}', f'f1_{metrics_avg}']\n",
    "input_feature_names = ['country','max_depth', 'year', 'lat', 'lon']\n",
    "target_feature_name = 'instrument'"
   ]
  },
  {
   "cell_type": "code",
   "execution_count": 13,
   "metadata": {},
   "outputs": [],
   "source": [
    "splitter_features = ['year', 'instrument']\n",
    "test_feature = 'cruise_number'\n",
    "ensemble_test_fraction = 0.1\n",
    "num_test_splits = 3\n",
    "test_fraction = 1.0 / num_test_splits\n",
    "num_train_splits = 3\n",
    "train_fraction = 1.0 - (1.0 / num_train_splits)\n",
    "test_fold_name = 'test_fold'"
   ]
  },
  {
   "cell_type": "code",
   "execution_count": 14,
   "metadata": {},
   "outputs": [],
   "source": [
    "input_dir_name = 'dask_clean'\n",
    "exp_out_dir_name = 'experiment_outputs'"
   ]
  },
  {
   "cell_type": "code",
   "execution_count": 15,
   "metadata": {},
   "outputs": [],
   "source": [
    "experiment_name = 'nb_cv_xgboost'\n",
    "classifier_name = 'xgboost'\n",
    "suffix='countryAndLatLon'"
   ]
  },
  {
   "cell_type": "code",
   "execution_count": 16,
   "metadata": {},
   "outputs": [],
   "source": [
    "classifier_opts = {'xgboost': {\n",
    "                       'opts':  {'objective':'binary:logistic', \n",
    "                                 'n_estimators':2},\n",
    "                       'class': xgboost.XGBClassifier,\n",
    "                   },\n",
    "                  }"
   ]
  },
  {
   "cell_type": "code",
   "execution_count": 17,
   "metadata": {},
   "outputs": [],
   "source": [
    "xbt_input_dir = os.path.join(root_data_dir, input_dir_name)\n",
    "xbt_output_dir = os.path.join(root_data_dir, exp_out_dir_name, experiment_name)"
   ]
  },
  {
   "cell_type": "code",
   "execution_count": 18,
   "metadata": {},
   "outputs": [
    {
     "name": "stdout",
     "output_type": "stream",
     "text": [
      "outputting to /Users/stephen.haddad/data/xbt-data/experiment_outputs/nb_cv_xgboost\n"
     ]
    }
   ],
   "source": [
    "# create the output for this experiment if it doesn't exist\n",
    "if not os.path.isdir(xbt_output_dir):\n",
    "    os.makedirs(xbt_output_dir)\n",
    "print(f'outputting to {xbt_output_dir}')"
   ]
  },
  {
   "cell_type": "code",
   "execution_count": 19,
   "metadata": {},
   "outputs": [],
   "source": [
    "output_fname_template = 'xbt_output_{exp_name}_{subset}.csv'\n",
    "result_fname_template = 'xbt_metrics_{classifier}_{suffix}.csv'"
   ]
  },
  {
   "cell_type": "code",
   "execution_count": 20,
   "metadata": {},
   "outputs": [
    {
     "name": "stdout",
     "output_type": "stream",
     "text": [
      "CPU times: user 5.3 s, sys: 1.13 s, total: 6.43 s\n",
      "Wall time: 6.53 s\n"
     ]
    }
   ],
   "source": [
    "%%time\n",
    "xbt_full_dataset = XbtDataset(xbt_input_dir, year_range)"
   ]
  },
  {
   "cell_type": "markdown",
   "metadata": {},
   "source": [
    "## Data preparation\n",
    "\n",
    "We are only testing on the labelled data, to be able to evaluate performance. The XbtDataset class has filtered out some bad data including profiles with maximum depths less that 0.0 or greater than 2000.0. There were also some profiles with bad date entries, which have been excluded for now.\n",
    "\n",
    "Our training and evaluation will all happen within the labelled dataset, but ultimately we want to apply the trained ML algorithms to the unlabelled data, as this is where labels are needed to reduce the uncertainty in the ocean temperature dataset. So we need to design our experiment with this in mind. What we need to know is how well does our chosen algorithm generalise to unseen data. \n",
    "\n",
    "So within the labelled dataset we split the data into three groups. Firstly, we set a side some fraction of cruises and all profiles that are from those cruises into a group called \"unseen\". These profiles will not be used in the training or initial evaluation. These will represent cruises that have no labelled data. \n",
    "\n",
    "The remainder of the data will then be split into 2 groups, training and test as is standard for a machine learning pipeline. In splitting the data, we will sample a certain fraction of the profiles for train and the rest will be test. But we don't sample from the whole dataset randomly, as this might result in imbalances in representations of years and instrment types. Rather, for each combination of year and instrument label, sample the required fraction from all profiles matching those values. Doing this all possisble value combination of those 2 parameters should results in all years and instrument type being as well represented as possible in both the test and train sets.\n",
    "\n",
    "So the algorithm will be fit to the training set. Then we will evaulate performance on the test set. This gives us an idea of how the algorithm will perform on unlabelled profiles where other profiles from the same cruise are labelled. Then we will evaluate performance of the algorithm on the unseen dataset. This suggests how the algorithm will perform on unlabelled profiles where no profiles from that cruise are labelled. Both of these sorts of profiles have been found to be present in the unlabelled data, so it is important to evaluate the algorithm for both cases."
   ]
  },
  {
   "cell_type": "code",
   "execution_count": 21,
   "metadata": {},
   "outputs": [
    {
     "name": "stdout",
     "output_type": "stream",
     "text": [
      "CPU times: user 217 ms, sys: 80.3 ms, total: 297 ms\n",
      "Wall time: 296 ms\n"
     ]
    }
   ],
   "source": [
    "%%time\n",
    "xbt_labelled = xbt_full_dataset.filter_obs({'labelled': 'labelled'})"
   ]
  },
  {
   "cell_type": "markdown",
   "metadata": {},
   "source": [
    "The format of the data in the pandas dataframe is not suitable for feeding into the machine learning algorithms. We have to appropriately encode the data for training. The dataset class has knowledge of the different types of data represented and how each type should be encoded. This happens through the get_ml_dataset method. Calling this with the return_data flag as False doesn't actually encode the data, but initialises the encoder objects required. These encoders are then used for subsequent encoding operations, so encoding are consistent for the whole experiment and results can be compared."
   ]
  },
  {
   "cell_type": "code",
   "execution_count": 22,
   "metadata": {},
   "outputs": [],
   "source": [
    "_ = xbt_labelled.get_ml_dataset(return_data = False)"
   ]
  },
  {
   "cell_type": "code",
   "execution_count": 23,
   "metadata": {},
   "outputs": [],
   "source": [
    "_ = xbt_labelled.filter_features(['instrument', 'model', 'manufacturer']).encode_target(return_data = False)"
   ]
  },
  {
   "cell_type": "code",
   "execution_count": 24,
   "metadata": {},
   "outputs": [
    {
     "name": "stdout",
     "output_type": "stream",
     "text": [
      "CPU times: user 1.05 s, sys: 47.1 ms, total: 1.1 s\n",
      "Wall time: 1.1 s\n"
     ]
    }
   ],
   "source": [
    "%%time\n",
    "test_cruise_numbers = xbt_labelled.sample_feature_values('cruise_number', fraction=0.1)\n",
    "test_var_name = 'test'\n",
    "test_part_name = 'test_part'\n",
    "test_whole_name = 'test_whole'\n",
    "test_indices = list(itertools.chain.from_iterable([list(xbt_labelled.filter_obs({target_feature_name: selected_instrument}).xbt_df.sample(frac=0.1).index) \n",
    "for selected_instrument in xbt_labelled['instrument'].unique()]))"
   ]
  },
  {
   "cell_type": "code",
   "execution_count": 25,
   "metadata": {},
   "outputs": [],
   "source": [
    "# label test data based on whole cruises set aside\n",
    "xbt_labelled.xbt_df[test_var_name] = xbt_labelled.xbt_df['cruise_number'].isin(test_cruise_numbers)\n",
    "xbt_labelled.xbt_df[test_whole_name] = xbt_labelled.xbt_df['cruise_number'].isin(test_cruise_numbers)"
   ]
  },
  {
   "cell_type": "code",
   "execution_count": 26,
   "metadata": {},
   "outputs": [],
   "source": [
    "# label test data where part of the cruise is in the train/validation sets\n",
    "xbt_labelled.xbt_df.loc[test_indices, test_var_name] = True\n",
    "xbt_labelled.xbt_df[test_part_name] = False\n",
    "xbt_labelled.xbt_df.loc[test_indices, test_part_name] = True\n"
   ]
  },
  {
   "cell_type": "code",
   "execution_count": 27,
   "metadata": {},
   "outputs": [],
   "source": [
    "imeta_classes = xbt_labelled.xbt_df.apply(imeta_classification, axis=1)\n",
    "imeta_model = imeta_classes.apply(lambda t1: t1[0])\n",
    "imeta_manufacturer = imeta_classes.apply(lambda t1: t1[1])"
   ]
  },
  {
   "cell_type": "code",
   "execution_count": 28,
   "metadata": {},
   "outputs": [],
   "source": [
    "imeta_feature_name = f'{target_feature_name}_imeta'"
   ]
  },
  {
   "cell_type": "code",
   "execution_count": 29,
   "metadata": {},
   "outputs": [],
   "source": [
    "imeta_instrument = imeta_classes.apply(lambda t1: f'XBT: {t1[0]} ({t1[1]})') \n",
    "xbt_labelled.xbt_df[imeta_feature_name] = imeta_instrument\n",
    "xbt_labelled._target_encoders[imeta_feature_name] = xbt_labelled._target_encoders[target_feature_name]\n",
    "xbt_labelled._feature_encoders[imeta_feature_name] = xbt_labelled._feature_encoders[target_feature_name]"
   ]
  },
  {
   "cell_type": "code",
   "execution_count": 30,
   "metadata": {},
   "outputs": [
    {
     "name": "stdout",
     "output_type": "stream",
     "text": [
      "CPU times: user 103 ms, sys: 23 ms, total: 126 ms\n",
      "Wall time: 125 ms\n"
     ]
    }
   ],
   "source": [
    "%%time\n",
    "xbt_test = xbt_labelled.filter_obs({test_var_name: True})\n",
    "xbt_working = xbt_labelled.filter_obs({test_var_name: False})"
   ]
  },
  {
   "cell_type": "markdown",
   "metadata": {},
   "source": [
    "alskdaslkdjalsdk"
   ]
  },
  {
   "cell_type": "code",
   "execution_count": 31,
   "metadata": {},
   "outputs": [],
   "source": [
    "xbt_test_whole = xbt_labelled.filter_obs({test_whole_name: True})\n",
    "xbt_test_part = xbt_labelled.filter_obs({test_part_name: True})"
   ]
  },
  {
   "cell_type": "code",
   "execution_count": 32,
   "metadata": {},
   "outputs": [],
   "source": [
    "X_working_all = xbt_working.filter_features(input_feature_names).get_ml_dataset()[0]\n",
    "y_instr_working_all = xbt_working.filter_features([target_feature_name]).get_ml_dataset()[0]"
   ]
  },
  {
   "cell_type": "code",
   "execution_count": 33,
   "metadata": {},
   "outputs": [],
   "source": [
    "X_test_all = xbt_test.filter_features(input_feature_names).get_ml_dataset()[0]\n",
    "y_instr_test_all = xbt_test.filter_features([target_feature_name]).get_ml_dataset()[0]"
   ]
  },
  {
   "cell_type": "markdown",
   "metadata": {},
   "source": [
    "## Training the classifier\n",
    "\n",
    "* [XGBoost Classsifier](https://xgboost.readthedocs.io/en/stable/python/python_api.html#module-xgboost.sklearn) "
   ]
  },
  {
   "cell_type": "code",
   "execution_count": 34,
   "metadata": {},
   "outputs": [
    {
     "name": "stdout",
     "output_type": "stream",
     "text": [
      "CPU times: user 14.1 s, sys: 55.9 ms, total: 14.1 s\n",
      "Wall time: 14.1 s\n"
     ]
    }
   ],
   "source": [
    "%%time\n",
    "xbt_working.generate_folds_by_feature('cruise_number', num_test_splits, test_fold_name)"
   ]
  },
  {
   "cell_type": "code",
   "execution_count": 35,
   "metadata": {},
   "outputs": [],
   "source": [
    "cruise_numbers = list(xbt_working['cruise_number'].unique())"
   ]
  },
  {
   "cell_type": "code",
   "execution_count": 36,
   "metadata": {},
   "outputs": [],
   "source": [
    "X_labelled = xbt_working.filter_features(input_feature_names).get_ml_dataset()[0]\n",
    "y_labelled = xbt_working.filter_features([target_feature_name]).get_ml_dataset()[0]"
   ]
  },
  {
   "cell_type": "code",
   "execution_count": 37,
   "metadata": {},
   "outputs": [],
   "source": [
    "clf_name = 'xgboost'\n",
    "clf_params = classifier_opts[clf_name]"
   ]
  },
  {
   "cell_type": "code",
   "execution_count": 38,
   "metadata": {},
   "outputs": [],
   "source": [
    "scores = {}"
   ]
  },
  {
   "cell_type": "code",
   "execution_count": 39,
   "metadata": {},
   "outputs": [
    {
     "name": "stdout",
     "output_type": "stream",
     "text": [
      "CPU times: user 211 ms, sys: 290 ms, total: 502 ms\n",
      "Wall time: 50.5 s\n"
     ]
    }
   ],
   "source": [
    "%%time \n",
    "group_cv1 = sklearn.model_selection.KFold(n_splits=num_test_splits,\n",
    "                                          shuffle=True,\n",
    "                                          random_state=random.randint(1,2**20))\n",
    "\n",
    "clf_dt1 = clf_params['class'](**clf_params['opts'])\n",
    "scores[clf_name] = sklearn.model_selection.cross_validate(\n",
    "    clf_dt1,\n",
    "    X_labelled, y_labelled, \n",
    "    groups=xbt_working[test_fold_name], \n",
    "    cv=group_cv1,\n",
    "    return_estimator=True,\n",
    "    return_train_score=True,\n",
    "    scoring=cv_metric_names,\n",
    "    n_jobs=-1,\n",
    ")"
   ]
  },
  {
   "cell_type": "code",
   "execution_count": 40,
   "metadata": {},
   "outputs": [],
   "source": [
    "d1 = {\n",
    "    f'{target_feature_name}_{clf_name}_res_cv_{ix1}': \n",
    "    xbt_test._feature_encoders[target_feature_name].inverse_transform(\n",
    "        clf1.predict(xbt_test.filter_features(input_feature_names).get_ml_dataset()[0]))\n",
    "    for clf_name, scores_clf in scores.items()\n",
    "    for ix1, clf1 in enumerate(scores_clf['estimator']) \n",
    "}\n",
    "d1['id'] = xbt_test['id']\n",
    "instr_predictions_test_cv = pandas.DataFrame(d1)"
   ]
  },
  {
   "cell_type": "code",
   "execution_count": 41,
   "metadata": {},
   "outputs": [],
   "source": [
    "ens_res_features_cv = [f'{target_feature_name}_{clf_name}_res_cv_{ix1}' for ix1, clf1 in enumerate(scores[clf_name]['estimator'])]"
   ]
  },
  {
   "cell_type": "code",
   "execution_count": 42,
   "metadata": {},
   "outputs": [],
   "source": [
    "xbt_test.xbt_df = pandas.DataFrame.merge(xbt_test.xbt_df, instr_predictions_test_cv, on='id')"
   ]
  },
  {
   "cell_type": "code",
   "execution_count": 43,
   "metadata": {},
   "outputs": [],
   "source": [
    "calc_disagreements = lambda x: len(set(x))"
   ]
  },
  {
   "cell_type": "code",
   "execution_count": 44,
   "metadata": {},
   "outputs": [
    {
     "name": "stdout",
     "output_type": "stream",
     "text": [
      "CPU times: user 1.39 s, sys: 52.3 ms, total: 1.45 s\n",
      "Wall time: 1.45 s\n"
     ]
    }
   ],
   "source": [
    "%%time\n",
    "vote_counts_cv_df = pandas.DataFrame.from_records( \n",
    "    {year1: \n",
    "     dict(xbt_test.filter_obs({'year': year1}).filter_features(ens_res_features_cv).xbt_df.apply(\n",
    "         calc_disagreements, axis='columns').value_counts()) for year1 in range(*year_range)},\n",
    ").transpose().fillna(0.0)\n",
    "vote_counts_cv_df['year'] = vote_counts_cv_df.index"
   ]
  },
  {
   "cell_type": "code",
   "execution_count": 45,
   "metadata": {},
   "outputs": [],
   "source": [
    "probs_test_instrument_cv = functools.reduce(\n",
    "    lambda x,y: x+y, \n",
    "    [xbt_labelled._target_encoders[target_feature_name].transform(instr_predictions_test_cv[[pred1]])\n",
    "     for pred1 in instr_predictions_test_cv.columns \n",
    "     if 'res_cv' in pred1]) / len(instr_predictions_test_cv.columns)\n",
    "probs_test_instrument_cv_df = pandas.DataFrame({col_name: probs_test_instrument_cv[:,col_ix1]\n",
    "for col_ix1, col_name in enumerate(xbt_labelled._target_encoders[target_feature_name].categories_[0])})"
   ]
  },
  {
   "cell_type": "code",
   "execution_count": 46,
   "metadata": {},
   "outputs": [],
   "source": [
    "max_prob_cv_ensemble = probs_test_instrument_cv_df.idxmax(axis='columns')"
   ]
  },
  {
   "cell_type": "code",
   "execution_count": 47,
   "metadata": {},
   "outputs": [],
   "source": [
    "clf_dict_cv = {ix1: clf1 for ix1, clf1 in enumerate(scores[clf_name]['estimator'])}"
   ]
  },
  {
   "cell_type": "markdown",
   "metadata": {},
   "source": [
    "## Calculate metrics"
   ]
  },
  {
   "cell_type": "code",
   "execution_count": 48,
   "metadata": {},
   "outputs": [],
   "source": [
    "def calc_metric_subset(xbt_subset, clf1, filter_dict, inputs, target_feature, metric_func, metric_args_dict):\n",
    "    if filter_dict:\n",
    "        xbt_selected = xbt_subset.filter_obs(filter_dict)\n",
    "    else:\n",
    "        xbt_selected = xbt_subset\n",
    "    if xbt_selected.shape[0] == 0:\n",
    "        return 0.0\n",
    "    metrics_result = metric_func(\n",
    "        clf1.predict(xbt_selected.filter_features(inputs).get_ml_dataset()[0]),\n",
    "        xbt_selected.filter_features([target_feature]).get_ml_dataset()[0],\n",
    "        **metric_args_dict)\n",
    "    return metrics_result                       "
   ]
  },
  {
   "cell_type": "code",
   "execution_count": 49,
   "metadata": {},
   "outputs": [],
   "source": [
    "instrument_list = list(xbt_labelled._feature_encoders[target_feature_name].classes_)"
   ]
  },
  {
   "cell_type": "code",
   "execution_count": 50,
   "metadata": {},
   "outputs": [],
   "source": [
    "do_avg_args_dict = {'labels':list(range(0,len(instrument_list))), \n",
    "                    'average':'weighted'}\n",
    "metrics_defs_dict = {\n",
    "    'recall': {'metric_func': sklearn.metrics.recall_score, 'metric_args_dict': do_avg_args_dict},\n",
    "    'precision': {'metric_func': sklearn.metrics.precision_score, 'metric_args_dict': do_avg_args_dict},\n",
    "    'accuracy': {'metric_func': sklearn.metrics.accuracy_score, 'metric_args_dict': {}},\n",
    "    'f1': {'metric_func': sklearn.metrics.f1_score, 'metric_args_dict': do_avg_args_dict},\n",
    "    'balanced_accuracy': {'metric_func': sklearn.metrics.balanced_accuracy_score, 'metric_args_dict': {}},    \n",
    "}\n"
   ]
  },
  {
   "cell_type": "code",
   "execution_count": 51,
   "metadata": {},
   "outputs": [],
   "source": [
    "metrics_imeta_all = { f'{metric_name}_instr_ens' :\n",
    "    metric1['metric_func'](\n",
    "        xbt_test.filter_features([f'{target_feature_name}_imeta']).get_ml_dataset()[0],\n",
    "        xbt_test.filter_features([target_feature_name]).get_ml_dataset()[0],\n",
    "        **metric1['metric_args_dict']\n",
    "    )\n",
    "    for metric_name,metric1 in metrics_defs_dict.items()    \n",
    "}\n",
    "metrics_imeta_all['classifier'] = 'imeta'"
   ]
  },
  {
   "cell_type": "code",
   "execution_count": 52,
   "metadata": {},
   "outputs": [
    {
     "name": "stdout",
     "output_type": "stream",
     "text": [
      "CPU times: user 34.2 s, sys: 1.05 s, total: 35.3 s\n",
      "Wall time: 5.62 s\n"
     ]
    }
   ],
   "source": [
    "%%time\n",
    "metrics_test_cv_ens = pandas.DataFrame({ f'{metric_name}_instr_ens': [\n",
    "    calc_metric_subset(xbt_test, \n",
    "                       clf1, \n",
    "                       None,\n",
    "                       input_feature_names,\n",
    "                       target_feature_name,\n",
    "                       **metric1\n",
    "                      ) for res_ix1, clf1 in clf_dict_cv.items()]\n",
    " for metric_name,metric1 in metrics_defs_dict.items() \n",
    "})\n",
    "metrics_test_cv_ens['classifier'] = [\n",
    "    f'cv_{res_ix1}' for res_ix1, clf1 in clf_dict_cv.items()]"
   ]
  },
  {
   "cell_type": "code",
   "execution_count": 53,
   "metadata": {},
   "outputs": [
    {
     "data": {
      "text/html": [
       "<div>\n",
       "<style scoped>\n",
       "    .dataframe tbody tr th:only-of-type {\n",
       "        vertical-align: middle;\n",
       "    }\n",
       "\n",
       "    .dataframe tbody tr th {\n",
       "        vertical-align: top;\n",
       "    }\n",
       "\n",
       "    .dataframe thead th {\n",
       "        text-align: right;\n",
       "    }\n",
       "</style>\n",
       "<table border=\"1\" class=\"dataframe\">\n",
       "  <thead>\n",
       "    <tr style=\"text-align: right;\">\n",
       "      <th></th>\n",
       "      <th>recall_instr_ens</th>\n",
       "      <th>precision_instr_ens</th>\n",
       "      <th>accuracy_instr_ens</th>\n",
       "      <th>f1_instr_ens</th>\n",
       "      <th>balanced_accuracy_instr_ens</th>\n",
       "      <th>classifier</th>\n",
       "    </tr>\n",
       "  </thead>\n",
       "  <tbody>\n",
       "    <tr>\n",
       "      <th>0</th>\n",
       "      <td>0.915172</td>\n",
       "      <td>0.920992</td>\n",
       "      <td>0.915172</td>\n",
       "      <td>0.917155</td>\n",
       "      <td>0.820709</td>\n",
       "      <td>cv_0</td>\n",
       "    </tr>\n",
       "    <tr>\n",
       "      <th>1</th>\n",
       "      <td>0.913528</td>\n",
       "      <td>0.919548</td>\n",
       "      <td>0.913528</td>\n",
       "      <td>0.915608</td>\n",
       "      <td>0.809038</td>\n",
       "      <td>cv_1</td>\n",
       "    </tr>\n",
       "    <tr>\n",
       "      <th>2</th>\n",
       "      <td>0.914448</td>\n",
       "      <td>0.920036</td>\n",
       "      <td>0.914448</td>\n",
       "      <td>0.916375</td>\n",
       "      <td>0.779477</td>\n",
       "      <td>cv_2</td>\n",
       "    </tr>\n",
       "  </tbody>\n",
       "</table>\n",
       "</div>"
      ],
      "text/plain": [
       "   recall_instr_ens  precision_instr_ens  accuracy_instr_ens  f1_instr_ens  \\\n",
       "0          0.915172             0.920992            0.915172      0.917155   \n",
       "1          0.913528             0.919548            0.913528      0.915608   \n",
       "2          0.914448             0.920036            0.914448      0.916375   \n",
       "\n",
       "   balanced_accuracy_instr_ens classifier  \n",
       "0                     0.820709       cv_0  \n",
       "1                     0.809038       cv_1  \n",
       "2                     0.779477       cv_2  "
      ]
     },
     "execution_count": 53,
     "metadata": {},
     "output_type": "execute_result"
    }
   ],
   "source": [
    "metrics_test_cv_ens"
   ]
  },
  {
   "cell_type": "code",
   "execution_count": 54,
   "metadata": {},
   "outputs": [
    {
     "name": "stdout",
     "output_type": "stream",
     "text": [
      "CPU times: user 3min 12s, sys: 3.35 s, total: 3min 16s\n",
      "Wall time: 26.1 s\n"
     ]
    }
   ],
   "source": [
    "%%time\n",
    "metrics_raw_cv_dict = { f'{metric_name}_instr_{res_ix1}': [calc_metric_subset(xbt_test, \n",
    "                   clf1, \n",
    "                   {target_feature_name: fn1},\n",
    "                   input_feature_names,\n",
    "                    target_feature_name,\n",
    "                   **metric1\n",
    "                  ) for  fn1 in instrument_list]\n",
    " for metric_name,metric1 in metrics_defs_dict.items() \n",
    " for res_ix1, clf1 in clf_dict_cv.items()\n",
    "}\n",
    "metrics_raw_cv_dict['num_profiles'] = [xbt_labelled.filter_obs({target_feature_name: fn1}).shape[0] \n",
    "                                       for fn1 in instrument_list]\n",
    "metrics_raw_cv_dict[target_feature_name] = [fn1 for  fn1 in instrument_list]\n",
    "\n",
    "metrics_per_class_cv_df = pandas.DataFrame(metrics_raw_cv_dict)\n",
    "metrics_per_class_cv_df = metrics_per_class_cv_df.sort_values('num_profiles', ascending=False)\n",
    "for metric_name in metrics_defs_dict.keys(): \n",
    "    metrics_per_class_cv_df[f'{metric_name}_instr_avg'] = metrics_per_class_cv_df[[c1 for c1 in metrics_per_class_cv_df.columns if metric_name in c1]].mean(axis='columns')"
   ]
  },
  {
   "cell_type": "code",
   "execution_count": 55,
   "metadata": {},
   "outputs": [
    {
     "data": {
      "text/html": [
       "<div>\n",
       "<style scoped>\n",
       "    .dataframe tbody tr th:only-of-type {\n",
       "        vertical-align: middle;\n",
       "    }\n",
       "\n",
       "    .dataframe tbody tr th {\n",
       "        vertical-align: top;\n",
       "    }\n",
       "\n",
       "    .dataframe thead th {\n",
       "        text-align: right;\n",
       "    }\n",
       "</style>\n",
       "<table border=\"1\" class=\"dataframe\">\n",
       "  <thead>\n",
       "    <tr style=\"text-align: right;\">\n",
       "      <th></th>\n",
       "      <th>recall_instr_0</th>\n",
       "      <th>recall_instr_1</th>\n",
       "      <th>recall_instr_2</th>\n",
       "      <th>precision_instr_0</th>\n",
       "      <th>precision_instr_1</th>\n",
       "      <th>precision_instr_2</th>\n",
       "      <th>accuracy_instr_0</th>\n",
       "      <th>accuracy_instr_1</th>\n",
       "      <th>accuracy_instr_2</th>\n",
       "      <th>f1_instr_0</th>\n",
       "      <th>...</th>\n",
       "      <th>balanced_accuracy_instr_0</th>\n",
       "      <th>balanced_accuracy_instr_1</th>\n",
       "      <th>balanced_accuracy_instr_2</th>\n",
       "      <th>num_profiles</th>\n",
       "      <th>instrument</th>\n",
       "      <th>recall_instr_avg</th>\n",
       "      <th>precision_instr_avg</th>\n",
       "      <th>accuracy_instr_avg</th>\n",
       "      <th>f1_instr_avg</th>\n",
       "      <th>balanced_accuracy_instr_avg</th>\n",
       "    </tr>\n",
       "  </thead>\n",
       "  <tbody>\n",
       "    <tr>\n",
       "      <th>9</th>\n",
       "      <td>0.972393</td>\n",
       "      <td>0.971649</td>\n",
       "      <td>0.972621</td>\n",
       "      <td>0.945548</td>\n",
       "      <td>0.944102</td>\n",
       "      <td>0.945991</td>\n",
       "      <td>0.972393</td>\n",
       "      <td>0.971649</td>\n",
       "      <td>0.972621</td>\n",
       "      <td>0.958782</td>\n",
       "      <td>...</td>\n",
       "      <td>0.111111</td>\n",
       "      <td>0.111111</td>\n",
       "      <td>0.100000</td>\n",
       "      <td>448238</td>\n",
       "      <td>XBT: T4 (SIPPICAN)</td>\n",
       "      <td>0.972221</td>\n",
       "      <td>0.945214</td>\n",
       "      <td>0.539814</td>\n",
       "      <td>0.958527</td>\n",
       "      <td>0.107407</td>\n",
       "    </tr>\n",
       "    <tr>\n",
       "      <th>2</th>\n",
       "      <td>0.952621</td>\n",
       "      <td>0.952604</td>\n",
       "      <td>0.949542</td>\n",
       "      <td>0.907487</td>\n",
       "      <td>0.907455</td>\n",
       "      <td>0.901631</td>\n",
       "      <td>0.952621</td>\n",
       "      <td>0.952604</td>\n",
       "      <td>0.949542</td>\n",
       "      <td>0.929507</td>\n",
       "      <td>...</td>\n",
       "      <td>0.100000</td>\n",
       "      <td>0.100000</td>\n",
       "      <td>0.090909</td>\n",
       "      <td>305512</td>\n",
       "      <td>XBT: DEEP BLUE (SIPPICAN)</td>\n",
       "      <td>0.951589</td>\n",
       "      <td>0.905524</td>\n",
       "      <td>0.524279</td>\n",
       "      <td>0.927985</td>\n",
       "      <td>0.096970</td>\n",
       "    </tr>\n",
       "    <tr>\n",
       "      <th>15</th>\n",
       "      <td>0.792019</td>\n",
       "      <td>0.793691</td>\n",
       "      <td>0.796373</td>\n",
       "      <td>0.627294</td>\n",
       "      <td>0.629946</td>\n",
       "      <td>0.634209</td>\n",
       "      <td>0.792019</td>\n",
       "      <td>0.793691</td>\n",
       "      <td>0.796373</td>\n",
       "      <td>0.700097</td>\n",
       "      <td>...</td>\n",
       "      <td>0.071429</td>\n",
       "      <td>0.071429</td>\n",
       "      <td>0.076923</td>\n",
       "      <td>192456</td>\n",
       "      <td>XBT: T7 (SIPPICAN)</td>\n",
       "      <td>0.794027</td>\n",
       "      <td>0.630483</td>\n",
       "      <td>0.433644</td>\n",
       "      <td>0.702866</td>\n",
       "      <td>0.073260</td>\n",
       "    </tr>\n",
       "    <tr>\n",
       "      <th>6</th>\n",
       "      <td>0.847122</td>\n",
       "      <td>0.825075</td>\n",
       "      <td>0.824964</td>\n",
       "      <td>0.717615</td>\n",
       "      <td>0.680749</td>\n",
       "      <td>0.680565</td>\n",
       "      <td>0.847122</td>\n",
       "      <td>0.825075</td>\n",
       "      <td>0.824964</td>\n",
       "      <td>0.777009</td>\n",
       "      <td>...</td>\n",
       "      <td>0.090909</td>\n",
       "      <td>0.090909</td>\n",
       "      <td>0.090909</td>\n",
       "      <td>41666</td>\n",
       "      <td>XBT: T10 (SIPPICAN)</td>\n",
       "      <td>0.832387</td>\n",
       "      <td>0.692976</td>\n",
       "      <td>0.461648</td>\n",
       "      <td>0.756281</td>\n",
       "      <td>0.090909</td>\n",
       "    </tr>\n",
       "    <tr>\n",
       "      <th>16</th>\n",
       "      <td>0.727885</td>\n",
       "      <td>0.736673</td>\n",
       "      <td>0.729057</td>\n",
       "      <td>0.529817</td>\n",
       "      <td>0.542686</td>\n",
       "      <td>0.531524</td>\n",
       "      <td>0.727885</td>\n",
       "      <td>0.736673</td>\n",
       "      <td>0.729057</td>\n",
       "      <td>0.613255</td>\n",
       "      <td>...</td>\n",
       "      <td>0.083333</td>\n",
       "      <td>0.100000</td>\n",
       "      <td>0.100000</td>\n",
       "      <td>17588</td>\n",
       "      <td>XBT: T7 (TSK - TSURUMI SEIKI Co.)</td>\n",
       "      <td>0.731205</td>\n",
       "      <td>0.534676</td>\n",
       "      <td>0.412825</td>\n",
       "      <td>0.617680</td>\n",
       "      <td>0.094444</td>\n",
       "    </tr>\n",
       "    <tr>\n",
       "      <th>14</th>\n",
       "      <td>0.942686</td>\n",
       "      <td>0.925457</td>\n",
       "      <td>0.953938</td>\n",
       "      <td>0.888658</td>\n",
       "      <td>0.856471</td>\n",
       "      <td>0.909998</td>\n",
       "      <td>0.942686</td>\n",
       "      <td>0.925457</td>\n",
       "      <td>0.953938</td>\n",
       "      <td>0.914875</td>\n",
       "      <td>...</td>\n",
       "      <td>0.111111</td>\n",
       "      <td>0.111111</td>\n",
       "      <td>0.100000</td>\n",
       "      <td>15559</td>\n",
       "      <td>XBT: T6 (TSK - TSURUMI SEIKI Co.)</td>\n",
       "      <td>0.940694</td>\n",
       "      <td>0.885042</td>\n",
       "      <td>0.524051</td>\n",
       "      <td>0.911985</td>\n",
       "      <td>0.107407</td>\n",
       "    </tr>\n",
       "    <tr>\n",
       "      <th>11</th>\n",
       "      <td>0.685804</td>\n",
       "      <td>0.682265</td>\n",
       "      <td>0.689343</td>\n",
       "      <td>0.470327</td>\n",
       "      <td>0.465486</td>\n",
       "      <td>0.475194</td>\n",
       "      <td>0.685804</td>\n",
       "      <td>0.682265</td>\n",
       "      <td>0.689343</td>\n",
       "      <td>0.557986</td>\n",
       "      <td>...</td>\n",
       "      <td>0.100000</td>\n",
       "      <td>0.100000</td>\n",
       "      <td>0.100000</td>\n",
       "      <td>14413</td>\n",
       "      <td>XBT: T5 (SIPPICAN)</td>\n",
       "      <td>0.685804</td>\n",
       "      <td>0.470336</td>\n",
       "      <td>0.392902</td>\n",
       "      <td>0.557989</td>\n",
       "      <td>0.100000</td>\n",
       "    </tr>\n",
       "    <tr>\n",
       "      <th>10</th>\n",
       "      <td>0.901515</td>\n",
       "      <td>0.886364</td>\n",
       "      <td>0.901515</td>\n",
       "      <td>0.812730</td>\n",
       "      <td>0.785640</td>\n",
       "      <td>0.812730</td>\n",
       "      <td>0.901515</td>\n",
       "      <td>0.886364</td>\n",
       "      <td>0.901515</td>\n",
       "      <td>0.854823</td>\n",
       "      <td>...</td>\n",
       "      <td>0.200000</td>\n",
       "      <td>0.166667</td>\n",
       "      <td>0.166667</td>\n",
       "      <td>7685</td>\n",
       "      <td>XBT: T4 (TSK - TSURUMI SEIKI Co.)</td>\n",
       "      <td>0.896465</td>\n",
       "      <td>0.803700</td>\n",
       "      <td>0.537121</td>\n",
       "      <td>0.847538</td>\n",
       "      <td>0.177778</td>\n",
       "    </tr>\n",
       "    <tr>\n",
       "      <th>13</th>\n",
       "      <td>0.509294</td>\n",
       "      <td>0.448575</td>\n",
       "      <td>0.509294</td>\n",
       "      <td>0.259380</td>\n",
       "      <td>0.201220</td>\n",
       "      <td>0.259380</td>\n",
       "      <td>0.509294</td>\n",
       "      <td>0.448575</td>\n",
       "      <td>0.509294</td>\n",
       "      <td>0.343711</td>\n",
       "      <td>...</td>\n",
       "      <td>0.071429</td>\n",
       "      <td>0.076923</td>\n",
       "      <td>0.076923</td>\n",
       "      <td>5986</td>\n",
       "      <td>XBT: T6 (SIPPICAN)</td>\n",
       "      <td>0.489054</td>\n",
       "      <td>0.239993</td>\n",
       "      <td>0.282073</td>\n",
       "      <td>0.321746</td>\n",
       "      <td>0.075092</td>\n",
       "    </tr>\n",
       "    <tr>\n",
       "      <th>4</th>\n",
       "      <td>0.758767</td>\n",
       "      <td>0.759830</td>\n",
       "      <td>0.783209</td>\n",
       "      <td>0.575728</td>\n",
       "      <td>0.577342</td>\n",
       "      <td>0.613417</td>\n",
       "      <td>0.758767</td>\n",
       "      <td>0.759830</td>\n",
       "      <td>0.783209</td>\n",
       "      <td>0.654695</td>\n",
       "      <td>...</td>\n",
       "      <td>0.200000</td>\n",
       "      <td>0.200000</td>\n",
       "      <td>0.200000</td>\n",
       "      <td>4481</td>\n",
       "      <td>XBT: FAST DEEP (SIPPICAN)</td>\n",
       "      <td>0.767269</td>\n",
       "      <td>0.588829</td>\n",
       "      <td>0.483634</td>\n",
       "      <td>0.666273</td>\n",
       "      <td>0.200000</td>\n",
       "    </tr>\n",
       "    <tr>\n",
       "      <th>26</th>\n",
       "      <td>0.571688</td>\n",
       "      <td>0.539020</td>\n",
       "      <td>0.569873</td>\n",
       "      <td>0.326827</td>\n",
       "      <td>0.290543</td>\n",
       "      <td>0.324755</td>\n",
       "      <td>0.571688</td>\n",
       "      <td>0.539020</td>\n",
       "      <td>0.569873</td>\n",
       "      <td>0.415893</td>\n",
       "      <td>...</td>\n",
       "      <td>0.111111</td>\n",
       "      <td>0.125000</td>\n",
       "      <td>0.111111</td>\n",
       "      <td>3256</td>\n",
       "      <td>XBT: XBT-7 (SPARTON)</td>\n",
       "      <td>0.560194</td>\n",
       "      <td>0.314042</td>\n",
       "      <td>0.337967</td>\n",
       "      <td>0.402399</td>\n",
       "      <td>0.115741</td>\n",
       "    </tr>\n",
       "    <tr>\n",
       "      <th>12</th>\n",
       "      <td>0.875000</td>\n",
       "      <td>0.853659</td>\n",
       "      <td>0.875000</td>\n",
       "      <td>0.765625</td>\n",
       "      <td>0.728733</td>\n",
       "      <td>0.765625</td>\n",
       "      <td>0.875000</td>\n",
       "      <td>0.853659</td>\n",
       "      <td>0.875000</td>\n",
       "      <td>0.816667</td>\n",
       "      <td>...</td>\n",
       "      <td>0.250000</td>\n",
       "      <td>0.200000</td>\n",
       "      <td>0.200000</td>\n",
       "      <td>2242</td>\n",
       "      <td>XBT: T5 (TSK - TSURUMI SEIKI Co.)</td>\n",
       "      <td>0.867886</td>\n",
       "      <td>0.753328</td>\n",
       "      <td>0.542276</td>\n",
       "      <td>0.806533</td>\n",
       "      <td>0.216667</td>\n",
       "    </tr>\n",
       "    <tr>\n",
       "      <th>1</th>\n",
       "      <td>0.877049</td>\n",
       "      <td>0.877049</td>\n",
       "      <td>0.893443</td>\n",
       "      <td>0.769215</td>\n",
       "      <td>0.769215</td>\n",
       "      <td>0.798240</td>\n",
       "      <td>0.877049</td>\n",
       "      <td>0.877049</td>\n",
       "      <td>0.893443</td>\n",
       "      <td>0.819601</td>\n",
       "      <td>...</td>\n",
       "      <td>0.333333</td>\n",
       "      <td>0.333333</td>\n",
       "      <td>0.333333</td>\n",
       "      <td>648</td>\n",
       "      <td>XBT: AXBT 536 (SPARTON)</td>\n",
       "      <td>0.882514</td>\n",
       "      <td>0.778890</td>\n",
       "      <td>0.607923</td>\n",
       "      <td>0.827454</td>\n",
       "      <td>0.333333</td>\n",
       "    </tr>\n",
       "    <tr>\n",
       "      <th>8</th>\n",
       "      <td>0.013158</td>\n",
       "      <td>0.039474</td>\n",
       "      <td>0.013158</td>\n",
       "      <td>0.000173</td>\n",
       "      <td>0.001558</td>\n",
       "      <td>0.000173</td>\n",
       "      <td>0.013158</td>\n",
       "      <td>0.039474</td>\n",
       "      <td>0.013158</td>\n",
       "      <td>0.000342</td>\n",
       "      <td>...</td>\n",
       "      <td>0.166667</td>\n",
       "      <td>0.166667</td>\n",
       "      <td>0.166667</td>\n",
       "      <td>523</td>\n",
       "      <td>XBT: T11 (SIPPICAN)</td>\n",
       "      <td>0.021930</td>\n",
       "      <td>0.000635</td>\n",
       "      <td>0.094298</td>\n",
       "      <td>0.001227</td>\n",
       "      <td>0.166667</td>\n",
       "    </tr>\n",
       "    <tr>\n",
       "      <th>18</th>\n",
       "      <td>0.261538</td>\n",
       "      <td>0.261538</td>\n",
       "      <td>0.261538</td>\n",
       "      <td>0.068402</td>\n",
       "      <td>0.068402</td>\n",
       "      <td>0.068402</td>\n",
       "      <td>0.261538</td>\n",
       "      <td>0.261538</td>\n",
       "      <td>0.261538</td>\n",
       "      <td>0.108443</td>\n",
       "      <td>...</td>\n",
       "      <td>0.200000</td>\n",
       "      <td>0.200000</td>\n",
       "      <td>0.166667</td>\n",
       "      <td>426</td>\n",
       "      <td>XBT: XBT-10 (SPARTON)</td>\n",
       "      <td>0.261538</td>\n",
       "      <td>0.068402</td>\n",
       "      <td>0.225214</td>\n",
       "      <td>0.108443</td>\n",
       "      <td>0.188889</td>\n",
       "    </tr>\n",
       "    <tr>\n",
       "      <th>3</th>\n",
       "      <td>0.462963</td>\n",
       "      <td>0.425926</td>\n",
       "      <td>0.407407</td>\n",
       "      <td>0.214335</td>\n",
       "      <td>0.181413</td>\n",
       "      <td>0.165981</td>\n",
       "      <td>0.462963</td>\n",
       "      <td>0.425926</td>\n",
       "      <td>0.407407</td>\n",
       "      <td>0.293015</td>\n",
       "      <td>...</td>\n",
       "      <td>0.333333</td>\n",
       "      <td>0.333333</td>\n",
       "      <td>0.250000</td>\n",
       "      <td>336</td>\n",
       "      <td>XBT: DEEP BLUE (TSK - TSURUMI SEIKI Co.)</td>\n",
       "      <td>0.432099</td>\n",
       "      <td>0.187243</td>\n",
       "      <td>0.368827</td>\n",
       "      <td>0.261110</td>\n",
       "      <td>0.305556</td>\n",
       "    </tr>\n",
       "    <tr>\n",
       "      <th>25</th>\n",
       "      <td>0.360000</td>\n",
       "      <td>0.360000</td>\n",
       "      <td>0.320000</td>\n",
       "      <td>0.129600</td>\n",
       "      <td>0.129600</td>\n",
       "      <td>0.102400</td>\n",
       "      <td>0.360000</td>\n",
       "      <td>0.360000</td>\n",
       "      <td>0.320000</td>\n",
       "      <td>0.190588</td>\n",
       "      <td>...</td>\n",
       "      <td>0.200000</td>\n",
       "      <td>0.200000</td>\n",
       "      <td>0.200000</td>\n",
       "      <td>193</td>\n",
       "      <td>XBT: XBT-6 (SPARTON)</td>\n",
       "      <td>0.346667</td>\n",
       "      <td>0.120533</td>\n",
       "      <td>0.273333</td>\n",
       "      <td>0.178776</td>\n",
       "      <td>0.200000</td>\n",
       "    </tr>\n",
       "    <tr>\n",
       "      <th>19</th>\n",
       "      <td>0.074074</td>\n",
       "      <td>0.074074</td>\n",
       "      <td>0.074074</td>\n",
       "      <td>0.005487</td>\n",
       "      <td>0.005487</td>\n",
       "      <td>0.005487</td>\n",
       "      <td>0.074074</td>\n",
       "      <td>0.074074</td>\n",
       "      <td>0.074074</td>\n",
       "      <td>0.010217</td>\n",
       "      <td>...</td>\n",
       "      <td>0.250000</td>\n",
       "      <td>0.200000</td>\n",
       "      <td>0.250000</td>\n",
       "      <td>110</td>\n",
       "      <td>XBT: XBT-20 (SPARTON)</td>\n",
       "      <td>0.074074</td>\n",
       "      <td>0.005487</td>\n",
       "      <td>0.153704</td>\n",
       "      <td>0.010217</td>\n",
       "      <td>0.233333</td>\n",
       "    </tr>\n",
       "    <tr>\n",
       "      <th>0</th>\n",
       "      <td>0.400000</td>\n",
       "      <td>0.400000</td>\n",
       "      <td>0.500000</td>\n",
       "      <td>0.160000</td>\n",
       "      <td>0.160000</td>\n",
       "      <td>0.250000</td>\n",
       "      <td>0.400000</td>\n",
       "      <td>0.400000</td>\n",
       "      <td>0.500000</td>\n",
       "      <td>0.228571</td>\n",
       "      <td>...</td>\n",
       "      <td>0.500000</td>\n",
       "      <td>0.500000</td>\n",
       "      <td>0.500000</td>\n",
       "      <td>105</td>\n",
       "      <td>XBT: AXBT (TSK - TSURUMI SEIKI Co.)</td>\n",
       "      <td>0.433333</td>\n",
       "      <td>0.190000</td>\n",
       "      <td>0.466667</td>\n",
       "      <td>0.263492</td>\n",
       "      <td>0.500000</td>\n",
       "    </tr>\n",
       "    <tr>\n",
       "      <th>21</th>\n",
       "      <td>0.315789</td>\n",
       "      <td>0.210526</td>\n",
       "      <td>0.263158</td>\n",
       "      <td>0.099723</td>\n",
       "      <td>0.044321</td>\n",
       "      <td>0.069252</td>\n",
       "      <td>0.315789</td>\n",
       "      <td>0.210526</td>\n",
       "      <td>0.263158</td>\n",
       "      <td>0.151579</td>\n",
       "      <td>...</td>\n",
       "      <td>0.333333</td>\n",
       "      <td>0.333333</td>\n",
       "      <td>0.333333</td>\n",
       "      <td>97</td>\n",
       "      <td>XBT: XBT-3 (SPARTON)</td>\n",
       "      <td>0.263158</td>\n",
       "      <td>0.071099</td>\n",
       "      <td>0.298246</td>\n",
       "      <td>0.111485</td>\n",
       "      <td>0.333333</td>\n",
       "    </tr>\n",
       "    <tr>\n",
       "      <th>23</th>\n",
       "      <td>0.000000</td>\n",
       "      <td>0.125000</td>\n",
       "      <td>0.000000</td>\n",
       "      <td>0.000000</td>\n",
       "      <td>0.015625</td>\n",
       "      <td>0.000000</td>\n",
       "      <td>0.000000</td>\n",
       "      <td>0.125000</td>\n",
       "      <td>0.000000</td>\n",
       "      <td>0.000000</td>\n",
       "      <td>...</td>\n",
       "      <td>0.000000</td>\n",
       "      <td>0.200000</td>\n",
       "      <td>0.000000</td>\n",
       "      <td>93</td>\n",
       "      <td>XBT: XBT-5 (SPARTON)</td>\n",
       "      <td>0.041667</td>\n",
       "      <td>0.005208</td>\n",
       "      <td>0.054167</td>\n",
       "      <td>0.009259</td>\n",
       "      <td>0.066667</td>\n",
       "    </tr>\n",
       "    <tr>\n",
       "      <th>22</th>\n",
       "      <td>0.133333</td>\n",
       "      <td>0.133333</td>\n",
       "      <td>0.133333</td>\n",
       "      <td>0.017778</td>\n",
       "      <td>0.017778</td>\n",
       "      <td>0.017778</td>\n",
       "      <td>0.133333</td>\n",
       "      <td>0.133333</td>\n",
       "      <td>0.133333</td>\n",
       "      <td>0.031373</td>\n",
       "      <td>...</td>\n",
       "      <td>0.333333</td>\n",
       "      <td>0.333333</td>\n",
       "      <td>0.333333</td>\n",
       "      <td>84</td>\n",
       "      <td>XBT: XBT-4 (SPARTON)</td>\n",
       "      <td>0.133333</td>\n",
       "      <td>0.017778</td>\n",
       "      <td>0.233333</td>\n",
       "      <td>0.031373</td>\n",
       "      <td>0.333333</td>\n",
       "    </tr>\n",
       "    <tr>\n",
       "      <th>7</th>\n",
       "      <td>0.000000</td>\n",
       "      <td>0.000000</td>\n",
       "      <td>0.000000</td>\n",
       "      <td>0.000000</td>\n",
       "      <td>0.000000</td>\n",
       "      <td>0.000000</td>\n",
       "      <td>0.000000</td>\n",
       "      <td>0.000000</td>\n",
       "      <td>0.000000</td>\n",
       "      <td>0.000000</td>\n",
       "      <td>...</td>\n",
       "      <td>0.000000</td>\n",
       "      <td>0.000000</td>\n",
       "      <td>0.000000</td>\n",
       "      <td>40</td>\n",
       "      <td>XBT: T10 (TSK - TSURUMI SEIKI Co.)</td>\n",
       "      <td>0.000000</td>\n",
       "      <td>0.000000</td>\n",
       "      <td>0.000000</td>\n",
       "      <td>0.000000</td>\n",
       "      <td>0.000000</td>\n",
       "    </tr>\n",
       "    <tr>\n",
       "      <th>5</th>\n",
       "      <td>0.000000</td>\n",
       "      <td>0.000000</td>\n",
       "      <td>0.000000</td>\n",
       "      <td>0.000000</td>\n",
       "      <td>0.000000</td>\n",
       "      <td>0.000000</td>\n",
       "      <td>0.000000</td>\n",
       "      <td>0.000000</td>\n",
       "      <td>0.000000</td>\n",
       "      <td>0.000000</td>\n",
       "      <td>...</td>\n",
       "      <td>0.000000</td>\n",
       "      <td>0.000000</td>\n",
       "      <td>0.000000</td>\n",
       "      <td>19</td>\n",
       "      <td>XBT: SUBMARINE-LAUNCHED EXPENDABLE BATHYTHERMO...</td>\n",
       "      <td>0.000000</td>\n",
       "      <td>0.000000</td>\n",
       "      <td>0.000000</td>\n",
       "      <td>0.000000</td>\n",
       "      <td>0.000000</td>\n",
       "    </tr>\n",
       "    <tr>\n",
       "      <th>20</th>\n",
       "      <td>0.000000</td>\n",
       "      <td>0.000000</td>\n",
       "      <td>0.000000</td>\n",
       "      <td>0.000000</td>\n",
       "      <td>0.000000</td>\n",
       "      <td>0.000000</td>\n",
       "      <td>0.000000</td>\n",
       "      <td>0.000000</td>\n",
       "      <td>0.000000</td>\n",
       "      <td>0.000000</td>\n",
       "      <td>...</td>\n",
       "      <td>0.000000</td>\n",
       "      <td>0.000000</td>\n",
       "      <td>0.000000</td>\n",
       "      <td>3</td>\n",
       "      <td>XBT: XBT-20DB (SPARTON)</td>\n",
       "      <td>0.000000</td>\n",
       "      <td>0.000000</td>\n",
       "      <td>0.000000</td>\n",
       "      <td>0.000000</td>\n",
       "      <td>0.000000</td>\n",
       "    </tr>\n",
       "    <tr>\n",
       "      <th>17</th>\n",
       "      <td>0.000000</td>\n",
       "      <td>0.000000</td>\n",
       "      <td>0.000000</td>\n",
       "      <td>0.000000</td>\n",
       "      <td>0.000000</td>\n",
       "      <td>0.000000</td>\n",
       "      <td>0.000000</td>\n",
       "      <td>0.000000</td>\n",
       "      <td>0.000000</td>\n",
       "      <td>0.000000</td>\n",
       "      <td>...</td>\n",
       "      <td>0.000000</td>\n",
       "      <td>0.000000</td>\n",
       "      <td>0.000000</td>\n",
       "      <td>1</td>\n",
       "      <td>XBT: XBT-1 (SPARTON)</td>\n",
       "      <td>0.000000</td>\n",
       "      <td>0.000000</td>\n",
       "      <td>0.000000</td>\n",
       "      <td>0.000000</td>\n",
       "      <td>0.000000</td>\n",
       "    </tr>\n",
       "    <tr>\n",
       "      <th>24</th>\n",
       "      <td>0.000000</td>\n",
       "      <td>0.000000</td>\n",
       "      <td>0.000000</td>\n",
       "      <td>0.000000</td>\n",
       "      <td>0.000000</td>\n",
       "      <td>0.000000</td>\n",
       "      <td>0.000000</td>\n",
       "      <td>0.000000</td>\n",
       "      <td>0.000000</td>\n",
       "      <td>0.000000</td>\n",
       "      <td>...</td>\n",
       "      <td>0.000000</td>\n",
       "      <td>0.000000</td>\n",
       "      <td>0.000000</td>\n",
       "      <td>1</td>\n",
       "      <td>XBT: XBT-5DB (SPARTON)</td>\n",
       "      <td>0.000000</td>\n",
       "      <td>0.000000</td>\n",
       "      <td>0.000000</td>\n",
       "      <td>0.000000</td>\n",
       "      <td>0.000000</td>\n",
       "    </tr>\n",
       "  </tbody>\n",
       "</table>\n",
       "<p>27 rows × 22 columns</p>\n",
       "</div>"
      ],
      "text/plain": [
       "    recall_instr_0  recall_instr_1  recall_instr_2  precision_instr_0  \\\n",
       "9         0.972393        0.971649        0.972621           0.945548   \n",
       "2         0.952621        0.952604        0.949542           0.907487   \n",
       "15        0.792019        0.793691        0.796373           0.627294   \n",
       "6         0.847122        0.825075        0.824964           0.717615   \n",
       "16        0.727885        0.736673        0.729057           0.529817   \n",
       "14        0.942686        0.925457        0.953938           0.888658   \n",
       "11        0.685804        0.682265        0.689343           0.470327   \n",
       "10        0.901515        0.886364        0.901515           0.812730   \n",
       "13        0.509294        0.448575        0.509294           0.259380   \n",
       "4         0.758767        0.759830        0.783209           0.575728   \n",
       "26        0.571688        0.539020        0.569873           0.326827   \n",
       "12        0.875000        0.853659        0.875000           0.765625   \n",
       "1         0.877049        0.877049        0.893443           0.769215   \n",
       "8         0.013158        0.039474        0.013158           0.000173   \n",
       "18        0.261538        0.261538        0.261538           0.068402   \n",
       "3         0.462963        0.425926        0.407407           0.214335   \n",
       "25        0.360000        0.360000        0.320000           0.129600   \n",
       "19        0.074074        0.074074        0.074074           0.005487   \n",
       "0         0.400000        0.400000        0.500000           0.160000   \n",
       "21        0.315789        0.210526        0.263158           0.099723   \n",
       "23        0.000000        0.125000        0.000000           0.000000   \n",
       "22        0.133333        0.133333        0.133333           0.017778   \n",
       "7         0.000000        0.000000        0.000000           0.000000   \n",
       "5         0.000000        0.000000        0.000000           0.000000   \n",
       "20        0.000000        0.000000        0.000000           0.000000   \n",
       "17        0.000000        0.000000        0.000000           0.000000   \n",
       "24        0.000000        0.000000        0.000000           0.000000   \n",
       "\n",
       "    precision_instr_1  precision_instr_2  accuracy_instr_0  accuracy_instr_1  \\\n",
       "9            0.944102           0.945991          0.972393          0.971649   \n",
       "2            0.907455           0.901631          0.952621          0.952604   \n",
       "15           0.629946           0.634209          0.792019          0.793691   \n",
       "6            0.680749           0.680565          0.847122          0.825075   \n",
       "16           0.542686           0.531524          0.727885          0.736673   \n",
       "14           0.856471           0.909998          0.942686          0.925457   \n",
       "11           0.465486           0.475194          0.685804          0.682265   \n",
       "10           0.785640           0.812730          0.901515          0.886364   \n",
       "13           0.201220           0.259380          0.509294          0.448575   \n",
       "4            0.577342           0.613417          0.758767          0.759830   \n",
       "26           0.290543           0.324755          0.571688          0.539020   \n",
       "12           0.728733           0.765625          0.875000          0.853659   \n",
       "1            0.769215           0.798240          0.877049          0.877049   \n",
       "8            0.001558           0.000173          0.013158          0.039474   \n",
       "18           0.068402           0.068402          0.261538          0.261538   \n",
       "3            0.181413           0.165981          0.462963          0.425926   \n",
       "25           0.129600           0.102400          0.360000          0.360000   \n",
       "19           0.005487           0.005487          0.074074          0.074074   \n",
       "0            0.160000           0.250000          0.400000          0.400000   \n",
       "21           0.044321           0.069252          0.315789          0.210526   \n",
       "23           0.015625           0.000000          0.000000          0.125000   \n",
       "22           0.017778           0.017778          0.133333          0.133333   \n",
       "7            0.000000           0.000000          0.000000          0.000000   \n",
       "5            0.000000           0.000000          0.000000          0.000000   \n",
       "20           0.000000           0.000000          0.000000          0.000000   \n",
       "17           0.000000           0.000000          0.000000          0.000000   \n",
       "24           0.000000           0.000000          0.000000          0.000000   \n",
       "\n",
       "    accuracy_instr_2  f1_instr_0  ...  balanced_accuracy_instr_0  \\\n",
       "9           0.972621    0.958782  ...                   0.111111   \n",
       "2           0.949542    0.929507  ...                   0.100000   \n",
       "15          0.796373    0.700097  ...                   0.071429   \n",
       "6           0.824964    0.777009  ...                   0.090909   \n",
       "16          0.729057    0.613255  ...                   0.083333   \n",
       "14          0.953938    0.914875  ...                   0.111111   \n",
       "11          0.689343    0.557986  ...                   0.100000   \n",
       "10          0.901515    0.854823  ...                   0.200000   \n",
       "13          0.509294    0.343711  ...                   0.071429   \n",
       "4           0.783209    0.654695  ...                   0.200000   \n",
       "26          0.569873    0.415893  ...                   0.111111   \n",
       "12          0.875000    0.816667  ...                   0.250000   \n",
       "1           0.893443    0.819601  ...                   0.333333   \n",
       "8           0.013158    0.000342  ...                   0.166667   \n",
       "18          0.261538    0.108443  ...                   0.200000   \n",
       "3           0.407407    0.293015  ...                   0.333333   \n",
       "25          0.320000    0.190588  ...                   0.200000   \n",
       "19          0.074074    0.010217  ...                   0.250000   \n",
       "0           0.500000    0.228571  ...                   0.500000   \n",
       "21          0.263158    0.151579  ...                   0.333333   \n",
       "23          0.000000    0.000000  ...                   0.000000   \n",
       "22          0.133333    0.031373  ...                   0.333333   \n",
       "7           0.000000    0.000000  ...                   0.000000   \n",
       "5           0.000000    0.000000  ...                   0.000000   \n",
       "20          0.000000    0.000000  ...                   0.000000   \n",
       "17          0.000000    0.000000  ...                   0.000000   \n",
       "24          0.000000    0.000000  ...                   0.000000   \n",
       "\n",
       "    balanced_accuracy_instr_1  balanced_accuracy_instr_2  num_profiles  \\\n",
       "9                    0.111111                   0.100000        448238   \n",
       "2                    0.100000                   0.090909        305512   \n",
       "15                   0.071429                   0.076923        192456   \n",
       "6                    0.090909                   0.090909         41666   \n",
       "16                   0.100000                   0.100000         17588   \n",
       "14                   0.111111                   0.100000         15559   \n",
       "11                   0.100000                   0.100000         14413   \n",
       "10                   0.166667                   0.166667          7685   \n",
       "13                   0.076923                   0.076923          5986   \n",
       "4                    0.200000                   0.200000          4481   \n",
       "26                   0.125000                   0.111111          3256   \n",
       "12                   0.200000                   0.200000          2242   \n",
       "1                    0.333333                   0.333333           648   \n",
       "8                    0.166667                   0.166667           523   \n",
       "18                   0.200000                   0.166667           426   \n",
       "3                    0.333333                   0.250000           336   \n",
       "25                   0.200000                   0.200000           193   \n",
       "19                   0.200000                   0.250000           110   \n",
       "0                    0.500000                   0.500000           105   \n",
       "21                   0.333333                   0.333333            97   \n",
       "23                   0.200000                   0.000000            93   \n",
       "22                   0.333333                   0.333333            84   \n",
       "7                    0.000000                   0.000000            40   \n",
       "5                    0.000000                   0.000000            19   \n",
       "20                   0.000000                   0.000000             3   \n",
       "17                   0.000000                   0.000000             1   \n",
       "24                   0.000000                   0.000000             1   \n",
       "\n",
       "                                           instrument  recall_instr_avg  \\\n",
       "9                                  XBT: T4 (SIPPICAN)          0.972221   \n",
       "2                           XBT: DEEP BLUE (SIPPICAN)          0.951589   \n",
       "15                                 XBT: T7 (SIPPICAN)          0.794027   \n",
       "6                                 XBT: T10 (SIPPICAN)          0.832387   \n",
       "16                  XBT: T7 (TSK - TSURUMI SEIKI Co.)          0.731205   \n",
       "14                  XBT: T6 (TSK - TSURUMI SEIKI Co.)          0.940694   \n",
       "11                                 XBT: T5 (SIPPICAN)          0.685804   \n",
       "10                  XBT: T4 (TSK - TSURUMI SEIKI Co.)          0.896465   \n",
       "13                                 XBT: T6 (SIPPICAN)          0.489054   \n",
       "4                           XBT: FAST DEEP (SIPPICAN)          0.767269   \n",
       "26                               XBT: XBT-7 (SPARTON)          0.560194   \n",
       "12                  XBT: T5 (TSK - TSURUMI SEIKI Co.)          0.867886   \n",
       "1                             XBT: AXBT 536 (SPARTON)          0.882514   \n",
       "8                                 XBT: T11 (SIPPICAN)          0.021930   \n",
       "18                              XBT: XBT-10 (SPARTON)          0.261538   \n",
       "3            XBT: DEEP BLUE (TSK - TSURUMI SEIKI Co.)          0.432099   \n",
       "25                               XBT: XBT-6 (SPARTON)          0.346667   \n",
       "19                              XBT: XBT-20 (SPARTON)          0.074074   \n",
       "0                 XBT: AXBT (TSK - TSURUMI SEIKI Co.)          0.433333   \n",
       "21                               XBT: XBT-3 (SPARTON)          0.263158   \n",
       "23                               XBT: XBT-5 (SPARTON)          0.041667   \n",
       "22                               XBT: XBT-4 (SPARTON)          0.133333   \n",
       "7                  XBT: T10 (TSK - TSURUMI SEIKI Co.)          0.000000   \n",
       "5   XBT: SUBMARINE-LAUNCHED EXPENDABLE BATHYTHERMO...          0.000000   \n",
       "20                            XBT: XBT-20DB (SPARTON)          0.000000   \n",
       "17                               XBT: XBT-1 (SPARTON)          0.000000   \n",
       "24                             XBT: XBT-5DB (SPARTON)          0.000000   \n",
       "\n",
       "   precision_instr_avg  accuracy_instr_avg  f1_instr_avg  \\\n",
       "9             0.945214            0.539814      0.958527   \n",
       "2             0.905524            0.524279      0.927985   \n",
       "15            0.630483            0.433644      0.702866   \n",
       "6             0.692976            0.461648      0.756281   \n",
       "16            0.534676            0.412825      0.617680   \n",
       "14            0.885042            0.524051      0.911985   \n",
       "11            0.470336            0.392902      0.557989   \n",
       "10            0.803700            0.537121      0.847538   \n",
       "13            0.239993            0.282073      0.321746   \n",
       "4             0.588829            0.483634      0.666273   \n",
       "26            0.314042            0.337967      0.402399   \n",
       "12            0.753328            0.542276      0.806533   \n",
       "1             0.778890            0.607923      0.827454   \n",
       "8             0.000635            0.094298      0.001227   \n",
       "18            0.068402            0.225214      0.108443   \n",
       "3             0.187243            0.368827      0.261110   \n",
       "25            0.120533            0.273333      0.178776   \n",
       "19            0.005487            0.153704      0.010217   \n",
       "0             0.190000            0.466667      0.263492   \n",
       "21            0.071099            0.298246      0.111485   \n",
       "23            0.005208            0.054167      0.009259   \n",
       "22            0.017778            0.233333      0.031373   \n",
       "7             0.000000            0.000000      0.000000   \n",
       "5             0.000000            0.000000      0.000000   \n",
       "20            0.000000            0.000000      0.000000   \n",
       "17            0.000000            0.000000      0.000000   \n",
       "24            0.000000            0.000000      0.000000   \n",
       "\n",
       "    balanced_accuracy_instr_avg  \n",
       "9                      0.107407  \n",
       "2                      0.096970  \n",
       "15                     0.073260  \n",
       "6                      0.090909  \n",
       "16                     0.094444  \n",
       "14                     0.107407  \n",
       "11                     0.100000  \n",
       "10                     0.177778  \n",
       "13                     0.075092  \n",
       "4                      0.200000  \n",
       "26                     0.115741  \n",
       "12                     0.216667  \n",
       "1                      0.333333  \n",
       "8                      0.166667  \n",
       "18                     0.188889  \n",
       "3                      0.305556  \n",
       "25                     0.200000  \n",
       "19                     0.233333  \n",
       "0                      0.500000  \n",
       "21                     0.333333  \n",
       "23                     0.066667  \n",
       "22                     0.333333  \n",
       "7                      0.000000  \n",
       "5                      0.000000  \n",
       "20                     0.000000  \n",
       "17                     0.000000  \n",
       "24                     0.000000  \n",
       "\n",
       "[27 rows x 22 columns]"
      ]
     },
     "execution_count": 55,
     "metadata": {},
     "output_type": "execute_result"
    }
   ],
   "source": [
    "metrics_per_class_cv_df"
   ]
  },
  {
   "cell_type": "code",
   "execution_count": 56,
   "metadata": {},
   "outputs": [
    {
     "name": "stdout",
     "output_type": "stream",
     "text": [
      "CPU times: user 5min 9s, sys: 8.04 s, total: 5min 17s\n",
      "Wall time: 43.3 s\n"
     ]
    }
   ],
   "source": [
    "%%time\n",
    "metrics_annual_raw_cv_dict = { f'{metric_name}_instr_{res_ix1}': [calc_metric_subset(xbt_test, \n",
    "                   clf1, \n",
    "                   {'year': year1},\n",
    "                   input_feature_names,\n",
    "                   target_feature_name,\n",
    "                   **metric1\n",
    "                  ) for  year1 in range(*year_range)]\n",
    " for metric_name,metric1 in metrics_defs_dict.items() \n",
    " for res_ix1, clf1 in clf_dict_cv.items()\n",
    "}\n",
    "metrics_annual_raw_cv_dict['num_profiles'] = [xbt_labelled.filter_obs({'year': year1}).shape[0] for year1 in range(*year_range)]\n",
    "metrics_annual_raw_cv_dict['year'] = [year1 for  year1 in range(*year_range)]\n",
    "\n",
    "metrics_annual_cv_df = pandas.DataFrame(metrics_annual_raw_cv_dict)\n",
    "for metric_name in metrics_defs_dict.keys(): \n",
    "    metrics_annual_cv_df[f'{metric_name}_instr_avg'] = metrics_annual_cv_df[[c1 for c1 in metrics_annual_cv_df.columns if metric_name in c1]].mean(axis='columns')"
   ]
  },
  {
   "cell_type": "markdown",
   "metadata": {},
   "source": [
    "# Classification result plots\n"
   ]
  },
  {
   "cell_type": "code",
   "execution_count": 57,
   "metadata": {},
   "outputs": [
    {
     "data": {
      "text/plain": [
       "Index(['recall_instr_0', 'recall_instr_1', 'recall_instr_2',\n",
       "       'precision_instr_0', 'precision_instr_1', 'precision_instr_2',\n",
       "       'accuracy_instr_0', 'accuracy_instr_1', 'accuracy_instr_2',\n",
       "       'f1_instr_0', 'f1_instr_1', 'f1_instr_2', 'balanced_accuracy_instr_0',\n",
       "       'balanced_accuracy_instr_1', 'balanced_accuracy_instr_2',\n",
       "       'num_profiles', 'year', 'recall_instr_avg', 'precision_instr_avg',\n",
       "       'accuracy_instr_avg', 'f1_instr_avg', 'balanced_accuracy_instr_avg'],\n",
       "      dtype='object')"
      ]
     },
     "execution_count": 57,
     "metadata": {},
     "output_type": "execute_result"
    }
   ],
   "source": [
    "metrics_annual_cv_df.columns"
   ]
  },
  {
   "cell_type": "code",
   "execution_count": 58,
   "metadata": {},
   "outputs": [
    {
     "data": {
      "text/plain": [
       "<AxesSubplot:xlabel='year'>"
      ]
     },
     "execution_count": 58,
     "metadata": {},
     "output_type": "execute_result"
    },
    {
     "name": "stderr",
     "output_type": "stream",
     "text": [
      "findfont: Font family ['normal'] not found. Falling back to DejaVu Sans.\n",
      "findfont: Font family ['normal'] not found. Falling back to DejaVu Sans.\n"
     ]
    },
    {
     "data": {
      "image/png": "[encoded data removed]",
      "text/plain": [
       "<Figure size 1152x720 with 1 Axes>"
      ]
     },
     "metadata": {},
     "output_type": "display_data"
    }
   ],
   "source": [
    "fig1 = matplotlib.pyplot.figure('recall_per_year', figsize=(16,10))\n",
    "ax1 = fig1.add_subplot(1,1,1)\n",
    "metrics_annual_cv_df.plot.line(x='year', \n",
    "                               y=['recall_instr_0', 'recall_instr_1', 'recall_instr_2'], \n",
    "                               ax=ax1,\n",
    "                              )"
   ]
  },
  {
   "cell_type": "code",
   "execution_count": 59,
   "metadata": {},
   "outputs": [
    {
     "data": {
      "text/plain": [
       "<AxesSubplot:xlabel='instrument'>"
      ]
     },
     "execution_count": 59,
     "metadata": {},
     "output_type": "execute_result"
    },
    {
     "data": {
      "image/png": "[encoded data removed]",
      "text/plain": [
       "<Figure size 1152x720 with 1 Axes>"
      ]
     },
     "metadata": {},
     "output_type": "display_data"
    }
   ],
   "source": [
    "fig1 = matplotlib.pyplot.figure('recall_per_class', figsize=(16,10))\n",
    "ax1 = fig1.add_subplot(1,1,1)\n",
    "metrics_per_class_cv_df.plot.bar(x='instrument', \n",
    "                                 y=['recall_instr_0', 'recall_instr_1', 'recall_instr_2'], \n",
    "                                 ax=ax1,\n",
    "                              )"
   ]
  },
  {
   "cell_type": "code",
   "execution_count": 70,
   "metadata": {},
   "outputs": [
    {
     "data": {
      "text/plain": [
       "<AxesSubplot:xlabel='instrument'>"
      ]
     },
     "execution_count": 70,
     "metadata": {},
     "output_type": "execute_result"
    },
    {
     "data": {
      "image/png": "[encoded data removed]",
      "text/plain": [
       "<Figure size 1152x720 with 1 Axes>"
      ]
     },
     "metadata": {},
     "output_type": "display_data"
    }
   ],
   "source": [
    "fig1 = matplotlib.pyplot.figure('precision_per_class', figsize=(16,10))\n",
    "ax1 = fig1.add_subplot(1,1,1)\n",
    "metrics_per_class_cv_df.plot.bar(x='instrument', \n",
    "                                 y=['precision_instr_0', 'precision_instr_1', 'precision_instr_2'], \n",
    "                                 ax=ax1,\n",
    "                              )"
   ]
  },
  {
   "cell_type": "code",
   "execution_count": 61,
   "metadata": {},
   "outputs": [
    {
     "data": {
      "text/plain": [
       "Index(['recall_instr_0', 'recall_instr_1', 'recall_instr_2',\n",
       "       'precision_instr_0', 'precision_instr_1', 'precision_instr_2',\n",
       "       'accuracy_instr_0', 'accuracy_instr_1', 'accuracy_instr_2',\n",
       "       'f1_instr_0', 'f1_instr_1', 'f1_instr_2', 'balanced_accuracy_instr_0',\n",
       "       'balanced_accuracy_instr_1', 'balanced_accuracy_instr_2',\n",
       "       'num_profiles', 'instrument', 'recall_instr_avg', 'precision_instr_avg',\n",
       "       'accuracy_instr_avg', 'f1_instr_avg', 'balanced_accuracy_instr_avg'],\n",
       "      dtype='object')"
      ]
     },
     "execution_count": 61,
     "metadata": {},
     "output_type": "execute_result"
    }
   ],
   "source": [
    "metrics_per_class_cv_df.columns"
   ]
  },
  {
   "cell_type": "code",
   "execution_count": 62,
   "metadata": {},
   "outputs": [
    {
     "data": {
      "text/plain": [
       "<AxesSubplot:xlabel='instrument'>"
      ]
     },
     "execution_count": 62,
     "metadata": {},
     "output_type": "execute_result"
    },
    {
     "data": {
      "image/png": "[encoded data removed]",
      "text/plain": [
       "<Figure size 1152x720 with 1 Axes>"
      ]
     },
     "metadata": {},
     "output_type": "display_data"
    }
   ],
   "source": [
    "fig1 = matplotlib.pyplot.figure('recall_per_class', figsize=(16,10))\n",
    "ax1 = fig1.add_subplot(1,1,1)\n",
    "metrics_per_class_cv_df.plot.bar(x='instrument', \n",
    "                                 y=['num_profiles'], \n",
    "                                 ax=ax1,\n",
    "                              )"
   ]
  },
  {
   "cell_type": "code",
   "execution_count": 71,
   "metadata": {},
   "outputs": [],
   "source": [
    "metrics_avg_all = {'precision': [], \n",
    "                   'recall': [],\n",
    "                   'f1': [],\n",
    "                   'support': [],\n",
    "                   'classifier_num':[],\n",
    "                  }\n",
    "for clf_ix1, clf1 in clf_dict_cv.items():\n",
    "    p1, r1, f1, s1 = sklearn.metrics.precision_recall_fscore_support(y_instr_test_all, \n",
    "                                                    clf1.predict(X_test_all),\n",
    "                                                    average='micro',\n",
    "                                                   )\n",
    "    metrics_avg_all['precision'] += [p1]\n",
    "    metrics_avg_all['recall'] += [r1]\n",
    "    metrics_avg_all['f1'] += [f1]\n",
    "    metrics_avg_all['support'] += [s1]\n",
    "    metrics_avg_all['classifier_num'] += [clf_ix1]\n",
    "metrics_avf_df = pandas.DataFrame(metrics_avg_all)"
   ]
  },
  {
   "cell_type": "code",
   "execution_count": 75,
   "metadata": {},
   "outputs": [
    {
     "data": {
      "text/html": [
       "<div>\n",
       "<style scoped>\n",
       "    .dataframe tbody tr th:only-of-type {\n",
       "        vertical-align: middle;\n",
       "    }\n",
       "\n",
       "    .dataframe tbody tr th {\n",
       "        vertical-align: top;\n",
       "    }\n",
       "\n",
       "    .dataframe thead th {\n",
       "        text-align: right;\n",
       "    }\n",
       "</style>\n",
       "<table border=\"1\" class=\"dataframe\">\n",
       "  <thead>\n",
       "    <tr style=\"text-align: right;\">\n",
       "      <th></th>\n",
       "      <th>precision</th>\n",
       "      <th>recall</th>\n",
       "      <th>f1</th>\n",
       "      <th>support</th>\n",
       "      <th>classifier_num</th>\n",
       "    </tr>\n",
       "  </thead>\n",
       "  <tbody>\n",
       "    <tr>\n",
       "      <th>0</th>\n",
       "      <td>0.915172</td>\n",
       "      <td>0.915172</td>\n",
       "      <td>0.915172</td>\n",
       "      <td>None</td>\n",
       "      <td>0</td>\n",
       "    </tr>\n",
       "    <tr>\n",
       "      <th>1</th>\n",
       "      <td>0.913528</td>\n",
       "      <td>0.913528</td>\n",
       "      <td>0.913528</td>\n",
       "      <td>None</td>\n",
       "      <td>1</td>\n",
       "    </tr>\n",
       "    <tr>\n",
       "      <th>2</th>\n",
       "      <td>0.914448</td>\n",
       "      <td>0.914448</td>\n",
       "      <td>0.914448</td>\n",
       "      <td>None</td>\n",
       "      <td>2</td>\n",
       "    </tr>\n",
       "  </tbody>\n",
       "</table>\n",
       "</div>"
      ],
      "text/plain": [
       "   precision    recall        f1 support  classifier_num\n",
       "0   0.915172  0.915172  0.915172    None               0\n",
       "1   0.913528  0.913528  0.913528    None               1\n",
       "2   0.914448  0.914448  0.914448    None               2"
      ]
     },
     "execution_count": 75,
     "metadata": {},
     "output_type": "execute_result"
    }
   ],
   "source": [
    "metrics_avf_df"
   ]
  },
  {
   "cell_type": "code",
   "execution_count": 72,
   "metadata": {},
   "outputs": [
    {
     "data": {
      "text/plain": [
       "<AxesSubplot:xlabel='classifier_num'>"
      ]
     },
     "execution_count": 72,
     "metadata": {},
     "output_type": "execute_result"
    },
    {
     "data": {
      "image/png": "[encoded data removed]",
      "text/plain": [
       "<Figure size 576x576 with 1 Axes>"
      ]
     },
     "metadata": {},
     "output_type": "display_data"
    }
   ],
   "source": [
    "metrics_avf_df.plot.bar(x='classifier_num',\n",
    "                        y='recall',\n",
    "                        figsize=(8,8),\n",
    "                       )"
   ]
  },
  {
   "cell_type": "markdown",
   "metadata": {},
   "source": [
    "We see substantial improvements in recall some years, particularly the early 1990s. This is a postive outcome as this where the high percent of unlabelled data is found."
   ]
  },
  {
   "cell_type": "code",
   "execution_count": null,
   "metadata": {},
   "outputs": [],
   "source": [
    "res_ml1 = clf_dt_instr1.predict(xbt_predictable.filter_features(input_feature_names).get_ml_dataset()[0])\n",
    "res2 = list(xbt_labelled._feature_encoders['instrument'].inverse_transform(res_ml1).reshape(-1))"
   ]
  },
  {
   "cell_type": "code",
   "execution_count": null,
   "metadata": {},
   "outputs": [],
   "source": [
    "xbt_predictable.xbt_df[result_feature_name] = res2"
   ]
  },
  {
   "cell_type": "code",
   "execution_count": null,
   "metadata": {},
   "outputs": [],
   "source": [
    "xbt_full_dataset.merge_features(xbt_predictable, [result_feature_name],\n",
    "                               fill_values = {result_feature_name: UNKNOWN_STR},\n",
    "                               feature_encoders={result_feature_name: xbt_labelled._feature_encoders['instrument']},\n",
    "                                target_encoders={result_feature_name: xbt_labelled._target_encoders['instrument']},\n",
    "                               output_formatters={result_feature_name: cat_output_formatter})"
   ]
  },
  {
   "cell_type": "code",
   "execution_count": null,
   "metadata": {},
   "outputs": [],
   "source": [
    "%%time\n",
    "xbt_full_dataset.output_data(os.path.join(output_dir, output_fname_template.format(classifier=classifier_name,\n",
    "                                                                                  suffix=suffix)),\n",
    "                             target_features=[result_feature_name])"
   ]
  },
  {
   "cell_type": "code",
   "execution_count": null,
   "metadata": {},
   "outputs": [],
   "source": []
  }
 ],
 "metadata": {
  "kernelspec": {
   "display_name": "Python 3 (ipykernel)",
   "language": "python",
   "name": "python3"
  },
  "language_info": {
   "codemirror_mode": {
    "name": "ipython",
    "version": 3
   },
   "file_extension": ".py",
   "mimetype": "text/x-python",
   "name": "python",
   "nbconvert_exporter": "python",
   "pygments_lexer": "ipython3",
   "version": "3.8.12"
  }
 },
 "nbformat": 4,
 "nbformat_minor": 4
}
